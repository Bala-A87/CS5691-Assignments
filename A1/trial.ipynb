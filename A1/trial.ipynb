{
 "cells": [
  {
   "cell_type": "code",
   "execution_count": 1,
   "metadata": {},
   "outputs": [],
   "source": [
    "import numpy as np\n",
    "import matplotlib.pyplot as plt"
   ]
  },
  {
   "cell_type": "code",
   "execution_count": 2,
   "metadata": {},
   "outputs": [
    {
     "data": {
      "text/plain": [
       "array([[0., 0., 0.],\n",
       "       [0., 0., 0.],\n",
       "       [0., 0., 0.],\n",
       "       [0., 0., 0.]])"
      ]
     },
     "execution_count": 2,
     "metadata": {},
     "output_type": "execute_result"
    }
   ],
   "source": [
    "d = 3\n",
    "n = 4\n",
    "shape = (n,d)\n",
    "mu_minus = np.zeros(shape=shape)\n",
    "mu_minus"
   ]
  },
  {
   "cell_type": "code",
   "execution_count": 8,
   "metadata": {},
   "outputs": [
    {
     "data": {
      "text/plain": [
       "(3,)"
      ]
     },
     "execution_count": 8,
     "metadata": {},
     "output_type": "execute_result"
    }
   ],
   "source": [
    "mu_minus[0].shape"
   ]
  },
  {
   "cell_type": "code",
   "execution_count": 11,
   "metadata": {},
   "outputs": [
    {
     "name": "stdout",
     "output_type": "stream",
     "text": [
      "[1. 1. 1.]\n",
      "[1. 1. 1.]\n",
      "[1. 1. 1.]\n",
      "[1. 1. 1.]\n"
     ]
    }
   ],
   "source": [
    "for x in mu_minus:\n",
    "    print(np.add(x, np.ones(x.shape)))"
   ]
  },
  {
   "cell_type": "code",
   "execution_count": 13,
   "metadata": {},
   "outputs": [
    {
     "data": {
      "text/plain": [
       "array([1., 1., 1., 1.])"
      ]
     },
     "execution_count": 13,
     "metadata": {},
     "output_type": "execute_result"
    }
   ],
   "source": [
    "targets = np.ones(shape=n)\n",
    "targets"
   ]
  },
  {
   "cell_type": "code",
   "execution_count": 16,
   "metadata": {},
   "outputs": [
    {
     "data": {
      "text/plain": [
       "4"
      ]
     },
     "execution_count": 16,
     "metadata": {},
     "output_type": "execute_result"
    }
   ],
   "source": [
    "targets.shape[0]"
   ]
  },
  {
   "cell_type": "code",
   "execution_count": 18,
   "metadata": {},
   "outputs": [
    {
     "data": {
      "text/plain": [
       "array([[ 1.        , -1.33333333],\n",
       "       [ 0.        ,  0.66666667]])"
      ]
     },
     "execution_count": 18,
     "metadata": {},
     "output_type": "execute_result"
    }
   ],
   "source": [
    "np.linalg.inv([[1, 2], [0, 1.5]])"
   ]
  },
  {
   "cell_type": "code",
   "execution_count": 19,
   "metadata": {},
   "outputs": [
    {
     "data": {
      "text/plain": [
       "0.6"
      ]
     },
     "execution_count": 19,
     "metadata": {},
     "output_type": "execute_result"
    }
   ],
   "source": [
    "np.mean([np.ones(5), np.zeros(5), np.zeros(5), np.ones(5), np.ones(5)])"
   ]
  },
  {
   "cell_type": "code",
   "execution_count": 3,
   "metadata": {},
   "outputs": [
    {
     "data": {
      "text/plain": [
       "array([[0, 1, 2, 3],\n",
       "       [1, 0, 1, 2],\n",
       "       [2, 1, 0, 1],\n",
       "       [3, 2, 1, 0]])"
      ]
     },
     "execution_count": 3,
     "metadata": {},
     "output_type": "execute_result"
    }
   ],
   "source": [
    "L = np.array([np.array([0, 1, 2, 3]), np.array([1, 0, 1, 2]), np.array([2, 1, 0, 1]), np.array([3, 2, 1, 0])])\n",
    "L"
   ]
  },
  {
   "cell_type": "code",
   "execution_count": 5,
   "metadata": {},
   "outputs": [
    {
     "data": {
      "text/plain": [
       "148.4131591025766"
      ]
     },
     "execution_count": 5,
     "metadata": {},
     "output_type": "execute_result"
    }
   ],
   "source": [
    "np.exp(5)"
   ]
  },
  {
   "cell_type": "code",
   "execution_count": 6,
   "metadata": {},
   "outputs": [
    {
     "data": {
      "text/plain": [
       "2.718281828459045"
      ]
     },
     "execution_count": 6,
     "metadata": {},
     "output_type": "execute_result"
    }
   ],
   "source": [
    "np.exp(1)"
   ]
  },
  {
   "cell_type": "code",
   "execution_count": 2,
   "metadata": {},
   "outputs": [
    {
     "data": {
      "text/plain": [
       "inf"
      ]
     },
     "execution_count": 2,
     "metadata": {},
     "output_type": "execute_result"
    }
   ],
   "source": [
    "np.inf"
   ]
  },
  {
   "cell_type": "code",
   "execution_count": 8,
   "metadata": {},
   "outputs": [
    {
     "data": {
      "text/plain": [
       "True"
      ]
     },
     "execution_count": 8,
     "metadata": {},
     "output_type": "execute_result"
    }
   ],
   "source": [
    "1000000000000000000000000000000000000000000000000000000000000000000000000000000000000000000000000000000000000000000000000000000000 < np.inf"
   ]
  },
  {
   "cell_type": "code",
   "execution_count": 4,
   "metadata": {},
   "outputs": [
    {
     "data": {
      "text/plain": [
       "array([[0, 1],\n",
       "       [1, 3],\n",
       "       [1, 2]])"
      ]
     },
     "execution_count": 4,
     "metadata": {},
     "output_type": "execute_result"
    }
   ],
   "source": [
    "data = np.array([np.array([0, 1]), np.array([1, 3]), np.array([1, 2])])\n",
    "data"
   ]
  },
  {
   "cell_type": "code",
   "execution_count": 9,
   "metadata": {},
   "outputs": [],
   "source": [
    "def get_feature_mapping(x, degree=1):\n",
    "    x1 = x[0]\n",
    "    x2 = x[1]\n",
    "    ans = [1]\n",
    "    for i in range(1, degree+1):\n",
    "        ans.append(x1**i)\n",
    "        ans.append(x2**i)\n",
    "        for j in range(1, i):\n",
    "            ans.append((x1**j)*(x2**(i-j)))\n",
    "    return ans\n"
   ]
  },
  {
   "cell_type": "code",
   "execution_count": 11,
   "metadata": {},
   "outputs": [
    {
     "data": {
      "text/plain": [
       "[1, 1, 3, 1, 9, 3, 1, 27, 9, 3]"
      ]
     },
     "execution_count": 11,
     "metadata": {},
     "output_type": "execute_result"
    }
   ],
   "source": [
    "get_feature_mapping(data[1], 3)"
   ]
  },
  {
   "cell_type": "code",
   "execution_count": 16,
   "metadata": {},
   "outputs": [
    {
     "data": {
      "text/plain": [
       "array([[1, 0, 1, 0, 1, 0],\n",
       "       [1, 1, 3, 1, 9, 3],\n",
       "       [1, 1, 2, 1, 4, 2]])"
      ]
     },
     "execution_count": 16,
     "metadata": {},
     "output_type": "execute_result"
    }
   ],
   "source": [
    "n = data.shape[0]\n",
    "phi = list(np.zeros(shape=n))\n",
    "for i in range(n):\n",
    "    phi[i] = get_feature_mapping(data[i], 2)\n",
    "phi = np.array(phi)\n",
    "phi"
   ]
  },
  {
   "cell_type": "code",
   "execution_count": 17,
   "metadata": {},
   "outputs": [
    {
     "data": {
      "text/plain": [
       "(3, 6)"
      ]
     },
     "execution_count": 17,
     "metadata": {},
     "output_type": "execute_result"
    }
   ],
   "source": [
    "phi.shape"
   ]
  },
  {
   "cell_type": "code",
   "execution_count": 10,
   "metadata": {},
   "outputs": [
    {
     "data": {
      "text/plain": [
       "(100, 100)"
      ]
     },
     "execution_count": 10,
     "metadata": {},
     "output_type": "execute_result"
    }
   ],
   "source": [
    "X,Y = np.meshgrid(np.linspace(-1,1,100), np.linspace(-1,1,100))\n",
    "X.shape"
   ]
  },
  {
   "cell_type": "code",
   "execution_count": 24,
   "metadata": {},
   "outputs": [
    {
     "data": {
      "text/plain": [
       "array([[-1.        , -1.        ],\n",
       "       [-0.97979798, -1.        ],\n",
       "       [-0.95959596, -1.        ],\n",
       "       ...,\n",
       "       [ 0.95959596,  1.        ],\n",
       "       [ 0.97979798,  1.        ],\n",
       "       [ 1.        ,  1.        ]])"
      ]
     },
     "execution_count": 24,
     "metadata": {},
     "output_type": "execute_result"
    }
   ],
   "source": [
    "Z = np.array([np.ndarray.flatten(X), np.ndarray.flatten(Y)])\n",
    "np.transpose(Z)"
   ]
  },
  {
   "cell_type": "code",
   "execution_count": 28,
   "metadata": {},
   "outputs": [
    {
     "data": {
      "text/plain": [
       "array([[ 0.99583429, -0.42480129],\n",
       "       [ 0.26818309, -0.47476651],\n",
       "       [ 0.56314266,  0.61514869],\n",
       "       [-0.66563728, -0.71150678],\n",
       "       [-0.53508011, -0.44787686],\n",
       "       [-0.97246339,  0.96686409],\n",
       "       [ 0.95095471,  0.21564412],\n",
       "       [ 0.31198807, -0.68085568],\n",
       "       [-0.69271778,  0.99243266],\n",
       "       [ 0.97316591, -0.54642931],\n",
       "       [ 0.87173877,  0.15168359],\n",
       "       [-0.20664698,  0.68272307],\n",
       "       [-0.56436773, -0.35768549],\n",
       "       [ 0.03578046,  0.8707516 ],\n",
       "       [ 0.189376  ,  0.1002525 ],\n",
       "       [-0.25459105, -0.53820747],\n",
       "       [ 0.74297289, -0.89602718],\n",
       "       [-0.3880707 , -0.77944053],\n",
       "       [-0.02295361,  0.03301   ],\n",
       "       [ 0.40767615, -0.14660978],\n",
       "       [ 0.45705935,  0.63167286],\n",
       "       [ 0.08759673, -0.37567192],\n",
       "       [-0.91729646,  0.05015847],\n",
       "       [ 0.83050777, -0.95139061],\n",
       "       [-0.02147897, -0.81808641],\n",
       "       [ 0.2295713 ,  0.63264054],\n",
       "       [ 0.88074622, -0.80467738],\n",
       "       [-0.82728097, -0.03281736],\n",
       "       [ 0.87612294,  0.98891721],\n",
       "       [-0.95154548,  0.62886971],\n",
       "       [ 0.48439343,  0.34584119],\n",
       "       [-0.13019191, -0.37432309],\n",
       "       [ 0.26577729, -0.1911298 ],\n",
       "       [ 0.94330716, -0.81219557],\n",
       "       [-0.14675271,  0.54191828],\n",
       "       [ 0.62338333, -0.222321  ],\n",
       "       [-0.78215852, -0.76007495],\n",
       "       [-0.1271448 ,  0.41238144],\n",
       "       [-0.30753215, -0.3670704 ],\n",
       "       [ 0.13844741,  0.11794791],\n",
       "       [ 0.17412345,  0.24099833],\n",
       "       [ 0.64593715, -0.3940888 ],\n",
       "       [ 0.11223774,  0.67453419],\n",
       "       [ 0.41885878, -0.18827371],\n",
       "       [-0.46459394,  0.5302487 ],\n",
       "       [-0.1337445 ,  0.99713441],\n",
       "       [-0.267714  ,  0.09955295],\n",
       "       [-0.62865918,  0.51767502],\n",
       "       [-0.41483152, -0.40353164],\n",
       "       [ 0.66894539,  0.75899213]])"
      ]
     },
     "execution_count": 28,
     "metadata": {},
     "output_type": "execute_result"
    }
   ],
   "source": [
    "X1_train = np.random.uniform(low=-1, high=1, size=50)\n",
    "X2_train = np.random.uniform(low=-1, high=1, size=50)\n",
    "X_train = np.transpose(np.array([X1_train, X2_train]))\n",
    "X_train"
   ]
  },
  {
   "cell_type": "code",
   "execution_count": 27,
   "metadata": {},
   "outputs": [],
   "source": [
    "def get_train_value(x):\n",
    "    a = np.array([0.5, 0.5])\n",
    "    b = np.array([-0.5, -0.5])\n",
    "    c = np.array([0.5, -0.5])\n",
    "    return np.exp(-4*np.dot(np.subtract(x, a), np.subtract(x, a))) + np.exp(-4*np.dot(np.subtract(x, b), np.subtract(x, b))) + np.exp(-4*np.dot(np.subtract(x, c), np.subtract(x, c)))"
   ]
  },
  {
   "cell_type": "code",
   "execution_count": 29,
   "metadata": {},
   "outputs": [
    {
     "data": {
      "text/plain": [
       "0.3780191086282584"
      ]
     },
     "execution_count": 29,
     "metadata": {},
     "output_type": "execute_result"
    }
   ],
   "source": [
    "get_train_value(X_train[0])"
   ]
  },
  {
   "cell_type": "code",
   "execution_count": 32,
   "metadata": {},
   "outputs": [],
   "source": [
    "def get_Y_train(X_train):\n",
    "    n = X_train.shape[0]\n",
    "    Y_train = np.zeros(n)\n",
    "    for i in range(n):\n",
    "        Y_train[i] = get_train_value(X_train[i])\n",
    "    return Y_train"
   ]
  },
  {
   "cell_type": "code",
   "execution_count": 33,
   "metadata": {},
   "outputs": [
    {
     "data": {
      "text/plain": [
       "array([3.78019109e-01, 9.16696899e-01, 9.40220487e-01, 7.52909008e-01,\n",
       "       9.98329781e-01, 1.46507608e-04, 3.78001646e-01, 8.27741590e-01,\n",
       "       1.39772431e-03, 4.10162387e-01, 4.59479544e-01, 1.21861657e-01,\n",
       "       9.17518216e-01, 2.44100439e-01, 5.54975500e-01, 8.84647824e-01,\n",
       "       4.23117072e-01, 7.27232477e-01, 3.76637598e-01, 7.90450011e-01,\n",
       "       9.32211743e-01, 7.35911787e-01, 1.48729981e-01, 2.86458833e-01,\n",
       "       4.92101247e-01, 7.00767502e-01, 3.87238093e-01, 2.72769143e-01,\n",
       "       2.18347554e-01, 2.91012371e-03, 9.66728952e-01, 7.44547931e-01,\n",
       "       7.32464332e-01, 3.09153846e-01, 1.96675206e-01, 8.12655560e-01,\n",
       "       5.55942376e-01, 2.29055272e-01, 8.75701209e-01, 5.01845047e-01,\n",
       "       5.90801405e-01, 9.20571319e-01, 4.88250438e-01, 8.29896563e-01,\n",
       "       3.87041752e-02, 7.47388022e-02, 2.63656462e-01, 2.10772040e-02,\n",
       "       9.71130841e-01, 6.83750010e-01])"
      ]
     },
     "execution_count": 33,
     "metadata": {},
     "output_type": "execute_result"
    }
   ],
   "source": [
    "get_Y_train(X_train)"
   ]
  },
  {
   "cell_type": "code",
   "execution_count": 34,
   "metadata": {},
   "outputs": [
    {
     "data": {
      "text/plain": [
       "array([1.5, 4. , 2. ])"
      ]
     },
     "execution_count": 34,
     "metadata": {},
     "output_type": "execute_result"
    }
   ],
   "source": [
    "wt_vectors = [np.array([1, 3, 2]), np.array([2, 5, 2])]\n",
    "np.mean(wt_vectors, axis=0)"
   ]
  },
  {
   "cell_type": "code",
   "execution_count": 2,
   "metadata": {},
   "outputs": [],
   "source": [
    "lin_arr = np.array([1, 4, -3, 5, 0])"
   ]
  },
  {
   "cell_type": "code",
   "execution_count": 3,
   "metadata": {},
   "outputs": [
    {
     "data": {
      "text/plain": [
       "array([ 1, 16,  9, 25,  0])"
      ]
     },
     "execution_count": 3,
     "metadata": {},
     "output_type": "execute_result"
    }
   ],
   "source": [
    "lin_arr**2"
   ]
  },
  {
   "cell_type": "code",
   "execution_count": 4,
   "metadata": {},
   "outputs": [
    {
     "data": {
      "text/plain": [
       "10.2"
      ]
     },
     "execution_count": 4,
     "metadata": {},
     "output_type": "execute_result"
    }
   ],
   "source": [
    "np.mean(lin_arr**2)"
   ]
  },
  {
   "cell_type": "code",
   "execution_count": 3,
   "metadata": {},
   "outputs": [
    {
     "data": {
      "text/plain": [
       "['arr_0', 'arr_1', 'arr_2', 'arr_3']"
      ]
     },
     "execution_count": 3,
     "metadata": {},
     "output_type": "execute_result"
    }
   ],
   "source": [
    "dataset4_1 = np.load(\"Datasets/dataset4_1.npz\")\n",
    "dataset4_1.files"
   ]
  },
  {
   "cell_type": "code",
   "execution_count": 5,
   "metadata": {},
   "outputs": [
    {
     "data": {
      "text/plain": [
       "(1000, 2)"
      ]
     },
     "execution_count": 5,
     "metadata": {},
     "output_type": "execute_result"
    }
   ],
   "source": [
    "dataset4_1['arr_0'].shape"
   ]
  },
  {
   "cell_type": "code",
   "execution_count": 8,
   "metadata": {},
   "outputs": [],
   "source": [
    "arr = np.array([np.array([1, 2, 3]), np.array([3, 2, 1]), np.array([0, 3 ,2]), np.array([-1, 4, 2])])"
   ]
  },
  {
   "cell_type": "code",
   "execution_count": 9,
   "metadata": {},
   "outputs": [
    {
     "data": {
      "text/plain": [
       "9"
      ]
     },
     "execution_count": 9,
     "metadata": {},
     "output_type": "execute_result"
    }
   ],
   "source": [
    "np.argmin(arr)"
   ]
  },
  {
   "cell_type": "code",
   "execution_count": 4,
   "metadata": {},
   "outputs": [],
   "source": [
    "X_train = dataset4_1['arr_0']\n",
    "Y_train = dataset4_1['arr_1']\n",
    "X_test = dataset4_1['arr_2']\n",
    "Y_test = dataset4_1['arr_3']"
   ]
  },
  {
   "cell_type": "code",
   "execution_count": 13,
   "metadata": {},
   "outputs": [
    {
     "name": "stdout",
     "output_type": "stream",
     "text": [
      "-0.7416482108943891\t0.1346573685407857\n",
      "0.2273144412996262\t-0.9065192085765277\n",
      "-0.9978642330473028\t0.9908076592978262\n",
      "-0.9998972331202817\t0.9998393583025621\n"
     ]
    }
   ],
   "source": [
    "print(X_train[0].min(), X_train[1].min(), sep='\\t')\n",
    "print(X_test[0].min(), X_test[1].min(), sep='\\t')\n",
    "print(Y_train.min(), Y_train.max(), sep='\\t')\n",
    "print(Y_test.min(), Y_test.max(), sep='\\t')"
   ]
  },
  {
   "cell_type": "code",
   "execution_count": 11,
   "metadata": {},
   "outputs": [
    {
     "data": {
      "text/plain": [
       "[array([0., 0., 0., 0., 0., 0.]),\n",
       " array([0., 0., 0., 0., 0., 0.]),\n",
       " array([0., 0., 0., 0., 0., 0.]),\n",
       " array([0., 0., 0., 0., 0., 0.]),\n",
       " array([0., 0., 0., 0., 0., 0.])]"
      ]
     },
     "execution_count": 11,
     "metadata": {},
     "output_type": "execute_result"
    }
   ],
   "source": [
    "wt_vector = list(np.zeros(shape=(5,6)))\n",
    "wt_vector"
   ]
  },
  {
   "cell_type": "code",
   "execution_count": 24,
   "metadata": {},
   "outputs": [
    {
     "data": {
      "image/png": "[encoded data removed]",
      "text/plain": [
       "<Figure size 640x480 with 1 Axes>"
      ]
     },
     "metadata": {},
     "output_type": "display_data"
    }
   ],
   "source": [
    "X = X_train[:,0]\n",
    "Y = X_train[:,1]\n",
    "Z = Y_train\n",
    "\n",
    "plt.figure()\n",
    "plt.scatter(x=X[Z > 0.5], y=Y[Z > 0.5], c=\"Black\")\n",
    "plt.scatter(x=X[Z > 0], y=Y[Z > 0], c=\"Red\")\n",
    "plt.scatter(x=X[Z > -0.5], y=Y[Z > -0.5], c=\"Pink\")\n",
    "plt.scatter(x=X, y=Y, c=\"Yellow\")\n",
    "plt.show()"
   ]
  },
  {
   "cell_type": "code",
   "execution_count": null,
   "metadata": {},
   "outputs": [],
   "source": []
  }
 ],
 "metadata": {
  "kernelspec": {
   "display_name": "Python 3.10.4 64-bit",
   "language": "python",
   "name": "python3"
  },
  "language_info": {
   "codemirror_mode": {
    "name": "ipython",
    "version": 3
   },
   "file_extension": ".py",
   "mimetype": "text/x-python",
   "name": "python",
   "nbconvert_exporter": "python",
   "pygments_lexer": "ipython3",
   "version": "3.10.4"
  },
  "orig_nbformat": 4,
  "vscode": {
   "interpreter": {
    "hash": "916dbcbb3f70747c44a77c7bcd40155683ae19c65e1c03b4aa3499c5328201f1"
   }
  }
 },
 "nbformat": 4,
 "nbformat_minor": 2
}
