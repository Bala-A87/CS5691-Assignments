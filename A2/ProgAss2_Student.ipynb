{
 "cells": [
  {
   "cell_type": "markdown",
   "metadata": {},
   "source": [
    "# General Instructions to students:\n",
    "\n",
    "1. There are 5 types of cells in this notebook. The cell type will be indicated within the cell.\n",
    "    1. Markdown cells with problem written in it. (DO NOT TOUCH THESE CELLS) (**Cell type: TextRead**)\n",
    "    2. Python cells with setup code for further evaluations. (DO NOT TOUCH THESE CELLS) (**Cell type: CodeRead**)\n",
    "    3. Python code cells with some template code or empty cell. (FILL CODE IN THESE CELLS BASED ON INSTRUCTIONS IN CURRENT AND PREVIOUS CELLS) (**Cell type: CodeWrite**)\n",
    "    4. Markdown cells where a written reasoning or conclusion is expected. (WRITE SENTENCES IN THESE CELLS) (**Cell type: TextWrite**)\n",
    "    5. Temporary code cells for convenience and TAs. (YOU MAY DO WHAT YOU WILL WITH THESE CELLS, TAs WILL REPLACE WHATEVER YOU WRITE HERE WITH OFFICIAL EVALUATION CODE) (**Cell type: Convenience**)\n",
    "    \n",
    "2. You are not allowed to insert new cells in the submitted notebook.\n",
    "\n",
    "3. You are not allowed to import any extra packages.\n",
    "\n",
    "4. The code is to be written in Python 3.6 syntax. Latest versions of other packages maybe assumed.\n",
    "\n",
    "5. In CodeWrite Cells, the only outputs to be given are plots asked in the question. Nothing else to be output/print. \n",
    "\n",
    "6. If TextWrite cells ask you to give accuracy/error/other numbers you can print them on the code cells, but remove the print statements before submitting.\n",
    "\n",
    "7. The convenience code can be used to check the expected syntax of the functions. At a minimum, your entire notebook must run with \"run all\" with the convenience cells as it is. Any runtime failures on the submitted notebook as it is will get zero marks.\n",
    "\n",
    "8. All code must be written by yourself. Copying from other students/material on the web is strictly prohibited. Any violations will result in zero marks.\n",
    "\n",
    "9. All datasets will be given as .npz files, and will contain data in 4 numpy arrays :\"X_train, Y_train, X_test, Y_test\". In that order. The meaning of the 4 arrays can be easily inferred from their names.\n",
    "\n",
    "10. All plots must be labelled properly, all tables must have rows and columns named properly.\n",
    "\n",
    "11. Before subbmission ensure that you submit with the outputs (do not clear the outputs), so that when evaluating we can run selectively.\n",
    "\n",
    "12. Before submission ensure that the path for the folder containing the data is \"../../Data/\" \n"
   ]
  },
  {
   "cell_type": "code",
   "execution_count": 1,
   "metadata": {
    "collapsed": true
   },
   "outputs": [],
   "source": [
    "import numpy as np\n",
    "import matplotlib.pyplot as plt\n",
    "from sklearn import svm\n",
    "import matplotlib as mpl\n",
    "import pandas as pd"
   ]
  },
  {
   "cell_type": "markdown",
   "metadata": {},
   "source": [
    "# 1. Logistic Regression \n",
    "\n",
    "Write code for doing logistic regression below. Also write code for choosing best hyperparameters for each kernel type (use a part of training set as validation set). \n",
    "\n",
    "The range of hyperparameters is typically chosen on a log scale e.g. 1e-4, 1e-3, 1e-2... 1e3.\n",
    "\n",
    "Write code for running in the cell after (You may be asked to demonstrate your code during the viva using this cell.)\n",
    "\n",
    "In text cell after that report the following numbers you get by running appropriate code:\n",
    "\n",
    "For each classification data set report the best kernel and regularisation parameters for linear, RBF and Poly kernels. (Linear has no kernel parameter.) Report the training and test zero-one error for those hyperparameters. \n",
    "\n",
    "For each given hyperparameter setting (kernel and regularisation) you will have to do some exploring to find the right learning rate to use in gradient descent. The optimisation learning rate is not a model hyperparameter and hence can be chosen based on just the training set. i.e. choose the learning rate for which the training loss decreases the most.\n",
    "\n",
    "For the synthetic classification datasets (dataset_A and dataset_B) in 2-dimensions, also illustrate the learned classifier for each kernel setting. Do this in the last codeWrite cell for this question.\n"
   ]
  },
  {
   "cell_type": "code",
   "execution_count": 8,
   "metadata": {
    "collapsed": true
   },
   "outputs": [],
   "source": [
    "# CodeWrite \n",
    "#Write logistic regression code from scratch. Use gradient descent.\n",
    "# Only write functions here\n",
    "\n",
    "def linear_kernel_value(u, v):\n",
    "    return np.dot(u, v)\n",
    "\n",
    "def poly_kernel_value(u, v, d):\n",
    "    return (1+np.dot(u, v))**d\n",
    "\n",
    "def rbf_kernel_value(u, v, gamma):\n",
    "    return np.exp(-1*gamma*(np.linalg.norm(np.subtract(u, v))**2))\n",
    "\n",
    "def get_kernel_value(u, v, kernel, kernel_param):\n",
    "    if kernel == 'linear':\n",
    "        return linear_kernel_value(u, v)\n",
    "    elif kernel == 'rbf':\n",
    "        return rbf_kernel_value(u, v, kernel_param)\n",
    "    elif kernel == 'poly':\n",
    "        return poly_kernel_value(u, v, kernel_param)\n",
    "\n",
    "def get_kernel_matrix(X, kernel, kernel_param):\n",
    "    \"\"\"\n",
    "    Arguments:\n",
    "    X : (n,d) shape numpy array\n",
    "    kernel = 'linear' or 'rbf' or 'poly'\n",
    "    reg_param = lambda, for regularized logistic regression\n",
    "    kernel_param = gamma for rbf kernel or degree of poly kernel\n",
    "\n",
    "    Returns the kernel matrix :\n",
    "    K: (n,n) shape numpy array\n",
    "    \"\"\"\n",
    "    n = X.shape[0]\n",
    "    K = np.zeros(shape=(n,n))\n",
    "    for i in range(n):\n",
    "        for j in range(n):\n",
    "            K[i, j] = get_kernel_value(X[i], X[j], kernel, kernel_param)\n",
    "    return K\n",
    "\n",
    "def compute_gradient(K, Y, reg_param, alpha):\n",
    "    grad = reg_param * np.matmul(K, alpha)\n",
    "    for i in range(Y.shape[0]):\n",
    "        grad = np.add(grad, (-1*Y[i]/(1+np.exp(-1*Y[i]*np.dot(alpha, K[:, i]))))*K[:, i])\n",
    "    return grad\n",
    "\n",
    "def train_pred_logistic_regression(X, Y, kernel='linear', reg_param=0., \n",
    "                                   kernel_param=1., num_iter_gd=100):\n",
    "    \"\"\"\n",
    "    Arguments:\n",
    "    X : (n,d) shape numpy array\n",
    "    Y : (n,)  shape numpy array\n",
    "    X_test : (m,d) shape numpy array\n",
    "    kernel = 'linear' or 'rbf' or 'poly' \n",
    "    reg_param = $\\ lambda$\n",
    "    num_iter_gd = number of GD iterations.\n",
    "\n",
    "    Returns the result of kernel logistic regression :\n",
    "    alpha: Vector of solutions for the dual. Numpy array of shape (n,)\n",
    "\n",
    "    Primal problem:\n",
    "    $ \\ min_w  \\ sum_{i=1}^n \\ log(1+\\exp(-y_i* \\ w^\\ top \\ phi(\\ x_i)))  + \\ frac{\\ lambda}{2} ||\\ w||^2 $\n",
    "\n",
    "    the dual of which is\n",
    "\n",
    "    $ \\ min_alpha \\ sum_{i=1}^n \\ log(1+\\exp(-y_i* \\ alpha^\\ top K_{:,i} ))  + \\ frac{\\ lambda}{2} \\ alpha^\\ top K \\ alpha $\n",
    "    where $\\ phi$ is the feature got by the kernel.\n",
    "\n",
    "    Where K is the nxn kernel matrix computed on the training data.\n",
    "\n",
    "    The kernel is defined by the kernel_param:\n",
    "    If kernel=linear: K(\\ u,\\ v) = \\ u^\\ top \\ v  \n",
    "    If kernel=poly:  K(\\ u,\\ v) = (1+\\ u^\\ top \\ v)^(kernel_param)\n",
    "    If kernel=rbf:  K(\\ u,\\ v) = \\ exp(-kernel_param*||\\ u-\\ v||^2)\n",
    "    \"\"\"\n",
    "    n = Y.shape[0]\n",
    "    K = get_kernel_matrix(X, kernel, kernel_param)\n",
    "    # Initialization\n",
    "    alpha = np.zeros(shape=(n,))\n",
    "    # Experiment? Just try some different values and minimize training loss\n",
    "    learning_rate = 0.1 \n",
    "    for iteration in range(num_iter_gd):\n",
    "        alpha = np.subtract(alpha, learning_rate * compute_gradient(K, Y, reg_param, alpha))\n",
    "    return alpha\n",
    "\n",
    "def get_pred(alpha, train_X, test_x, kernel, kernel_param):\n",
    "    pred_sum = 0\n",
    "    for i in range(train_X.shape[0]):\n",
    "        pred_sum = pred_sum + alpha[i] * get_kernel_value(train_X[i], test_x, kernel, kernel_param)\n",
    "    if pred_sum < 0:\n",
    "        return -1\n",
    "    return 1\n",
    "\n",
    "def test_pred(alpha, train_X, train_Y, test_X, kernel, kernel_param):\n",
    "    \"\"\"\n",
    "    Return the predictions on test_X using the learnt alphas\n",
    "    \"\"\"\n",
    "    m = test_X.shape[0]\n",
    "    pred = np.zeros(shape=m)\n",
    "    for i in range(m):\n",
    "        pred[i] = get_pred(alpha, train_X, test_X[i], kernel, kernel_param)\n",
    "    return pred\n",
    "\n",
    "    \n",
    "\n"
   ]
  },
  {
   "cell_type": "code",
   "execution_count": 9,
   "metadata": {
    "collapsed": true
   },
   "outputs": [
    {
     "name": "stdout",
     "output_type": "stream",
     "text": [
      "Dataset 0\n",
      "Kernel: linear\n"
     ]
    },
    {
     "name": "stderr",
     "output_type": "stream",
     "text": [
      "/tmp/ipykernel_283963/3018308573.py:43: RuntimeWarning: overflow encountered in exp\n",
      "  grad = np.add(grad, (-1*Y[i]/(1+np.exp(-1*Y[i]*np.dot(alpha, K[:, i]))))*K[:, i])\n",
      "/tmp/ipykernel_283963/3018308573.py:41: RuntimeWarning: overflow encountered in multiply\n",
      "  grad = reg_param * np.matmul(K, alpha)\n",
      "/tmp/ipykernel_283963/3018308573.py:88: RuntimeWarning: invalid value encountered in double_scalars\n",
      "  pred_sum = pred_sum + alpha[i] * get_kernel_value(train_X[i], test_x, kernel, kernel_param)\n",
      "/tmp/ipykernel_283963/3018308573.py:41: RuntimeWarning: invalid value encountered in matmul\n",
      "  grad = reg_param * np.matmul(K, alpha)\n",
      "/tmp/ipykernel_283963/3018308573.py:41: RuntimeWarning: overflow encountered in matmul\n",
      "  grad = reg_param * np.matmul(K, alpha)\n"
     ]
    },
    {
     "name": "stdout",
     "output_type": "stream",
     "text": [
      "Best lambda:3\n",
      "Train zero-one error: 0.266\n",
      "Test zero-one error: 0.284\n",
      "Kernel: rbf\n"
     ]
    },
    {
     "ename": "KeyboardInterrupt",
     "evalue": "",
     "output_type": "error",
     "traceback": [
      "\u001b[0;31m---------------------------------------------------------------------------\u001b[0m",
      "\u001b[0;31mKeyboardInterrupt\u001b[0m                         Traceback (most recent call last)",
      "\u001b[1;32m/home/balakrishnan/Personal/CS5691/CS5691-Assignments/A2/ProgAss2_Student.ipynb Cell 5\u001b[0m in \u001b[0;36m<cell line: 45>\u001b[0;34m()\u001b[0m\n\u001b[1;32m     <a href='vscode-notebook-cell:/home/balakrishnan/Personal/CS5691/CS5691-Assignments/A2/ProgAss2_Student.ipynb#W4sZmlsZQ%3D%3D?line=50'>51</a>\u001b[0m \u001b[39mfor\u001b[39;00m kernel \u001b[39min\u001b[39;00m kernels:\n\u001b[1;32m     <a href='vscode-notebook-cell:/home/balakrishnan/Personal/CS5691/CS5691-Assignments/A2/ProgAss2_Student.ipynb#W4sZmlsZQ%3D%3D?line=51'>52</a>\u001b[0m     \u001b[39mprint\u001b[39m(\u001b[39m\"\u001b[39m\u001b[39mKernel: \u001b[39m\u001b[39m\"\u001b[39m \u001b[39m+\u001b[39m kernel)\n\u001b[0;32m---> <a href='vscode-notebook-cell:/home/balakrishnan/Personal/CS5691/CS5691-Assignments/A2/ProgAss2_Student.ipynb#W4sZmlsZQ%3D%3D?line=52'>53</a>\u001b[0m     reg_param, kernel_param \u001b[39m=\u001b[39m cross_validate(X_train, Y_train, kernel)\n\u001b[1;32m     <a href='vscode-notebook-cell:/home/balakrishnan/Personal/CS5691/CS5691-Assignments/A2/ProgAss2_Student.ipynb#W4sZmlsZQ%3D%3D?line=53'>54</a>\u001b[0m     \u001b[39mprint\u001b[39m(\u001b[39m\"\u001b[39m\u001b[39mBest lambda:\u001b[39m\u001b[39m\"\u001b[39m \u001b[39m+\u001b[39m \u001b[39mstr\u001b[39m(reg_param))\n\u001b[1;32m     <a href='vscode-notebook-cell:/home/balakrishnan/Personal/CS5691/CS5691-Assignments/A2/ProgAss2_Student.ipynb#W4sZmlsZQ%3D%3D?line=54'>55</a>\u001b[0m     \u001b[39m# print(\"Best kernel parameter: \" + str(kernel_param)) # handle for different kernels\u001b[39;00m\n",
      "\u001b[1;32m/home/balakrishnan/Personal/CS5691/CS5691-Assignments/A2/ProgAss2_Student.ipynb Cell 5\u001b[0m in \u001b[0;36mcross_validate\u001b[0;34m(X, Y, kernel)\u001b[0m\n\u001b[1;32m     <a href='vscode-notebook-cell:/home/balakrishnan/Personal/CS5691/CS5691-Assignments/A2/ProgAss2_Student.ipynb#W4sZmlsZQ%3D%3D?line=33'>34</a>\u001b[0m \u001b[39mfor\u001b[39;00m i,reg_param \u001b[39min\u001b[39;00m \u001b[39menumerate\u001b[39m(reg_params):\n\u001b[1;32m     <a href='vscode-notebook-cell:/home/balakrishnan/Personal/CS5691/CS5691-Assignments/A2/ProgAss2_Student.ipynb#W4sZmlsZQ%3D%3D?line=34'>35</a>\u001b[0m     \u001b[39mfor\u001b[39;00m j,kernel_param \u001b[39min\u001b[39;00m \u001b[39menumerate\u001b[39m(kernel_params):\n\u001b[0;32m---> <a href='vscode-notebook-cell:/home/balakrishnan/Personal/CS5691/CS5691-Assignments/A2/ProgAss2_Student.ipynb#W4sZmlsZQ%3D%3D?line=35'>36</a>\u001b[0m         alpha \u001b[39m=\u001b[39m train_pred_logistic_regression(X_train, Y_train, kernel, reg_param, kernel_param)\n\u001b[1;32m     <a href='vscode-notebook-cell:/home/balakrishnan/Personal/CS5691/CS5691-Assignments/A2/ProgAss2_Student.ipynb#W4sZmlsZQ%3D%3D?line=36'>37</a>\u001b[0m         accuracies[i, j] \u001b[39m=\u001b[39m accuracy_score(Y_val, test_pred(alpha, X_train, Y_train, X_val, kernel, kernel_param))\n\u001b[1;32m     <a href='vscode-notebook-cell:/home/balakrishnan/Personal/CS5691/CS5691-Assignments/A2/ProgAss2_Student.ipynb#W4sZmlsZQ%3D%3D?line=37'>38</a>\u001b[0m best_hyperparams \u001b[39m=\u001b[39m np\u001b[39m.\u001b[39margmax(accuracies)\n",
      "\u001b[1;32m/home/balakrishnan/Personal/CS5691/CS5691-Assignments/A2/ProgAss2_Student.ipynb Cell 5\u001b[0m in \u001b[0;36mtrain_pred_logistic_regression\u001b[0;34m(X, Y, kernel, reg_param, kernel_param, num_iter_gd)\u001b[0m\n\u001b[1;32m     <a href='vscode-notebook-cell:/home/balakrishnan/Personal/CS5691/CS5691-Assignments/A2/ProgAss2_Student.ipynb#W4sZmlsZQ%3D%3D?line=47'>48</a>\u001b[0m \u001b[39m\"\"\"\u001b[39;00m\n\u001b[1;32m     <a href='vscode-notebook-cell:/home/balakrishnan/Personal/CS5691/CS5691-Assignments/A2/ProgAss2_Student.ipynb#W4sZmlsZQ%3D%3D?line=48'>49</a>\u001b[0m \u001b[39mArguments:\u001b[39;00m\n\u001b[1;32m     <a href='vscode-notebook-cell:/home/balakrishnan/Personal/CS5691/CS5691-Assignments/A2/ProgAss2_Student.ipynb#W4sZmlsZQ%3D%3D?line=49'>50</a>\u001b[0m \u001b[39mX : (n,d) shape numpy array\u001b[39;00m\n\u001b[0;32m   (...)\u001b[0m\n\u001b[1;32m     <a href='vscode-notebook-cell:/home/balakrishnan/Personal/CS5691/CS5691-Assignments/A2/ProgAss2_Student.ipynb#W4sZmlsZQ%3D%3D?line=72'>73</a>\u001b[0m \u001b[39mIf kernel=rbf:  K(\\ u,\\ v) = \\ exp(-kernel_param*||\\ u-\\ v||^2)\u001b[39;00m\n\u001b[1;32m     <a href='vscode-notebook-cell:/home/balakrishnan/Personal/CS5691/CS5691-Assignments/A2/ProgAss2_Student.ipynb#W4sZmlsZQ%3D%3D?line=73'>74</a>\u001b[0m \u001b[39m\"\"\"\u001b[39;00m\n\u001b[1;32m     <a href='vscode-notebook-cell:/home/balakrishnan/Personal/CS5691/CS5691-Assignments/A2/ProgAss2_Student.ipynb#W4sZmlsZQ%3D%3D?line=74'>75</a>\u001b[0m n \u001b[39m=\u001b[39m Y\u001b[39m.\u001b[39mshape[\u001b[39m0\u001b[39m]\n\u001b[0;32m---> <a href='vscode-notebook-cell:/home/balakrishnan/Personal/CS5691/CS5691-Assignments/A2/ProgAss2_Student.ipynb#W4sZmlsZQ%3D%3D?line=75'>76</a>\u001b[0m K \u001b[39m=\u001b[39m get_kernel_matrix(X, kernel, kernel_param)\n\u001b[1;32m     <a href='vscode-notebook-cell:/home/balakrishnan/Personal/CS5691/CS5691-Assignments/A2/ProgAss2_Student.ipynb#W4sZmlsZQ%3D%3D?line=76'>77</a>\u001b[0m \u001b[39m# Initialization\u001b[39;00m\n\u001b[1;32m     <a href='vscode-notebook-cell:/home/balakrishnan/Personal/CS5691/CS5691-Assignments/A2/ProgAss2_Student.ipynb#W4sZmlsZQ%3D%3D?line=77'>78</a>\u001b[0m alpha \u001b[39m=\u001b[39m np\u001b[39m.\u001b[39mzeros(shape\u001b[39m=\u001b[39m(n,))\n",
      "\u001b[1;32m/home/balakrishnan/Personal/CS5691/CS5691-Assignments/A2/ProgAss2_Student.ipynb Cell 5\u001b[0m in \u001b[0;36mget_kernel_matrix\u001b[0;34m(X, kernel, kernel_param)\u001b[0m\n\u001b[1;32m     <a href='vscode-notebook-cell:/home/balakrishnan/Personal/CS5691/CS5691-Assignments/A2/ProgAss2_Student.ipynb#W4sZmlsZQ%3D%3D?line=34'>35</a>\u001b[0m \u001b[39mfor\u001b[39;00m i \u001b[39min\u001b[39;00m \u001b[39mrange\u001b[39m(n):\n\u001b[1;32m     <a href='vscode-notebook-cell:/home/balakrishnan/Personal/CS5691/CS5691-Assignments/A2/ProgAss2_Student.ipynb#W4sZmlsZQ%3D%3D?line=35'>36</a>\u001b[0m     \u001b[39mfor\u001b[39;00m j \u001b[39min\u001b[39;00m \u001b[39mrange\u001b[39m(n):\n\u001b[0;32m---> <a href='vscode-notebook-cell:/home/balakrishnan/Personal/CS5691/CS5691-Assignments/A2/ProgAss2_Student.ipynb#W4sZmlsZQ%3D%3D?line=36'>37</a>\u001b[0m         K[i, j] \u001b[39m=\u001b[39m get_kernel_value(X[i], X[j], kernel, kernel_param)\n\u001b[1;32m     <a href='vscode-notebook-cell:/home/balakrishnan/Personal/CS5691/CS5691-Assignments/A2/ProgAss2_Student.ipynb#W4sZmlsZQ%3D%3D?line=37'>38</a>\u001b[0m \u001b[39mreturn\u001b[39;00m K\n",
      "\u001b[1;32m/home/balakrishnan/Personal/CS5691/CS5691-Assignments/A2/ProgAss2_Student.ipynb Cell 5\u001b[0m in \u001b[0;36mget_kernel_value\u001b[0;34m(u, v, kernel, kernel_param)\u001b[0m\n\u001b[1;32m     <a href='vscode-notebook-cell:/home/balakrishnan/Personal/CS5691/CS5691-Assignments/A2/ProgAss2_Student.ipynb#W4sZmlsZQ%3D%3D?line=15'>16</a>\u001b[0m     \u001b[39mreturn\u001b[39;00m linear_kernel_value(u, v)\n\u001b[1;32m     <a href='vscode-notebook-cell:/home/balakrishnan/Personal/CS5691/CS5691-Assignments/A2/ProgAss2_Student.ipynb#W4sZmlsZQ%3D%3D?line=16'>17</a>\u001b[0m \u001b[39melif\u001b[39;00m kernel \u001b[39m==\u001b[39m \u001b[39m'\u001b[39m\u001b[39mrbf\u001b[39m\u001b[39m'\u001b[39m:\n\u001b[0;32m---> <a href='vscode-notebook-cell:/home/balakrishnan/Personal/CS5691/CS5691-Assignments/A2/ProgAss2_Student.ipynb#W4sZmlsZQ%3D%3D?line=17'>18</a>\u001b[0m     \u001b[39mreturn\u001b[39;00m rbf_kernel_value(u, v, kernel_param)\n\u001b[1;32m     <a href='vscode-notebook-cell:/home/balakrishnan/Personal/CS5691/CS5691-Assignments/A2/ProgAss2_Student.ipynb#W4sZmlsZQ%3D%3D?line=18'>19</a>\u001b[0m \u001b[39melif\u001b[39;00m kernel \u001b[39m==\u001b[39m \u001b[39m'\u001b[39m\u001b[39mpoly\u001b[39m\u001b[39m'\u001b[39m:\n\u001b[1;32m     <a href='vscode-notebook-cell:/home/balakrishnan/Personal/CS5691/CS5691-Assignments/A2/ProgAss2_Student.ipynb#W4sZmlsZQ%3D%3D?line=19'>20</a>\u001b[0m     \u001b[39mreturn\u001b[39;00m poly_kernel_value(u, v, kernel_param)\n",
      "\u001b[1;32m/home/balakrishnan/Personal/CS5691/CS5691-Assignments/A2/ProgAss2_Student.ipynb Cell 5\u001b[0m in \u001b[0;36mrbf_kernel_value\u001b[0;34m(u, v, gamma)\u001b[0m\n\u001b[1;32m     <a href='vscode-notebook-cell:/home/balakrishnan/Personal/CS5691/CS5691-Assignments/A2/ProgAss2_Student.ipynb#W4sZmlsZQ%3D%3D?line=10'>11</a>\u001b[0m \u001b[39mdef\u001b[39;00m \u001b[39mrbf_kernel_value\u001b[39m(u, v, gamma):\n\u001b[0;32m---> <a href='vscode-notebook-cell:/home/balakrishnan/Personal/CS5691/CS5691-Assignments/A2/ProgAss2_Student.ipynb#W4sZmlsZQ%3D%3D?line=11'>12</a>\u001b[0m     \u001b[39mreturn\u001b[39;00m np\u001b[39m.\u001b[39mexp(\u001b[39m-\u001b[39m\u001b[39m1\u001b[39m\u001b[39m*\u001b[39mgamma\u001b[39m*\u001b[39m(np\u001b[39m.\u001b[39;49mlinalg\u001b[39m.\u001b[39;49mnorm(np\u001b[39m.\u001b[39;49msubtract(u, v))\u001b[39m*\u001b[39m\u001b[39m*\u001b[39m\u001b[39m2\u001b[39m))\n",
      "File \u001b[0;32m<__array_function__ internals>:5\u001b[0m, in \u001b[0;36mnorm\u001b[0;34m(*args, **kwargs)\u001b[0m\n",
      "File \u001b[0;32m/usr/lib/python3/dist-packages/numpy/linalg/linalg.py:2531\u001b[0m, in \u001b[0;36mnorm\u001b[0;34m(x, ord, axis, keepdims)\u001b[0m\n\u001b[1;32m   2529\u001b[0m \u001b[39melse\u001b[39;00m:\n\u001b[1;32m   2530\u001b[0m     sqnorm \u001b[39m=\u001b[39m dot(x, x)\n\u001b[0;32m-> 2531\u001b[0m ret \u001b[39m=\u001b[39m sqrt(sqnorm)\n\u001b[1;32m   2532\u001b[0m \u001b[39mif\u001b[39;00m keepdims:\n\u001b[1;32m   2533\u001b[0m     ret \u001b[39m=\u001b[39m ret\u001b[39m.\u001b[39mreshape(ndim\u001b[39m*\u001b[39m[\u001b[39m1\u001b[39m])\n",
      "\u001b[0;31mKeyboardInterrupt\u001b[0m: "
     ]
    }
   ],
   "source": [
    "# CodeWrite : Use the functions above to do validation to get best hyperparameters \n",
    "# (i.e. kernel_param and regularisation_param).\n",
    "# Also, get the numbers you report below. \n",
    "\n",
    "def accuracy_score(Y_true, Y_pred):\n",
    "    return np.size(Y_true[Y_true==Y_pred])/np.size(Y_true)\n",
    "\n",
    "def cross_validate(X, Y, kernel):\n",
    "    \"\"\"\n",
    "    Arguments:\n",
    "    X : Training data X_train, numpy array of shape (n,d)\n",
    "    Y : Training labels Y_train, numpy array of shape (n,)\n",
    "    kernel = choice of kernel, 'linear', 'rbf' or 'poly'\n",
    "\n",
    "    Returns a tuple (best_reg_param, best_kernel_param), choosing the best hyperparameters by performing cross-validation\n",
    "    \"\"\"\n",
    "    n = X.shape[0]\n",
    "    X_train = np.append(X[int(0.05*n):int(0.45*n)], X[int(0.55*n):int(0.95*n)], axis=0)\n",
    "    X_val = np.append(X[:int(0.05*n)], np.append(X[int(0.45*n):int(0.55*n)], X[int(0.95*n):], axis=0), axis=0)\n",
    "    Y_train = np.append(Y[int(0.05*n):int(0.45*n)], Y[int(0.55*n):int(0.95*n)], axis=0)\n",
    "    Y_val = np.append(Y[:int(0.05*n)], np.append(Y[int(0.45*n):int(0.55*n)], Y[int(0.95*n):], axis=0), axis=0)\n",
    "\n",
    "    # Check kernel type and set up list of kernel_params accordingly\n",
    "    # Also set up list of lambdas\n",
    "    powers_10 = [1e-5, 1e-4, 1e-3, 1e-2, 1e-1, 1, 1e1, 1e2, 1e3, 1e4, 1e5]\n",
    "    powers_2 = [1, 2, 4, 8, 16]\n",
    "    reg_params = np.array(powers_10)\n",
    "    kernel_params = np.array([0])\n",
    "    if kernel == 'rbf':\n",
    "        kernel_params = np.array(powers_10)\n",
    "    elif kernel == 'poly':\n",
    "        kernel_params = np.array(powers_2)\n",
    "    accuracies = np.zeros(shape=(np.size(reg_params), np.size(kernel_params)))\n",
    "    for i,reg_param in enumerate(reg_params):\n",
    "        for j,kernel_param in enumerate(kernel_params):\n",
    "            alpha = train_pred_logistic_regression(X_train, Y_train, kernel, reg_param, kernel_param)\n",
    "            accuracies[i, j] = accuracy_score(Y_val, test_pred(alpha, X_train, Y_train, X_val, kernel, kernel_param))\n",
    "    best_hyperparams = np.argmax(accuracies)\n",
    "    best_reg_param = best_hyperparams // np.size(kernel_params)\n",
    "    best_kernel_param = best_hyperparams % np.size(kernel_params)\n",
    "    return (best_reg_param, best_kernel_param)\n",
    "\n",
    "datasets = [np.load(\"Datasets/dataset_A.npz\"), np.load(\"Datasets/dataset_B.npz\"), np.load(\"Datasets/dataset_C.npz\"), np.load(\"Datasets/dataset_D.npz\")]\n",
    "kernels = ['linear', 'rbf', 'poly']\n",
    "for i,dataset in enumerate(datasets):\n",
    "    X_train = dataset['arr_0']\n",
    "    Y_train = dataset['arr_1']\n",
    "    X_test = dataset['arr_2']\n",
    "    Y_test = dataset['arr_3']\n",
    "    print(\"Dataset \" + str(i))\n",
    "    for kernel in kernels:\n",
    "        print(\"Kernel: \" + kernel)\n",
    "        reg_param, kernel_param = cross_validate(X_train, Y_train, kernel)\n",
    "        print(\"Best lambda:\" + str(reg_param))\n",
    "        # print(\"Best kernel parameter: \" + str(kernel_param)) # handle for different kernels\n",
    "        if kernel == 'rbf':\n",
    "            print(\"Best gamma: \" + str(kernel_param))\n",
    "        elif kernel == 'poly':\n",
    "            print(\"Best degree: \" + str(kernel_param))\n",
    "        alpha = train_pred_logistic_regression(X_train, Y_train, kernel, reg_param, kernel_param)\n",
    "        train_error = accuracy_score(Y_train, test_pred(alpha, X_train, Y_train, X_train, kernel, kernel_param))\n",
    "        print(\"Train zero-one error: \" + str(train_error))\n",
    "        test_error = accuracy_score(Y_test, test_pred(alpha, X_train, Y_train, X_test, kernel, kernel_param))\n",
    "        print(\"Test zero-one error: \" + str(test_error))\n",
    "\n",
    "    "
   ]
  },
  {
   "cell_type": "markdown",
   "metadata": {},
   "source": [
    "TextWrite Cell: Give your observations and the list of hyperparameter choices and train zero-one error  and test zero-one error for all three kernel choices, for all 4 datasets (2 real world and 2 synthetic).  \n",
    "\n",
    "\n"
   ]
  },
  {
   "cell_type": "code",
   "execution_count": null,
   "metadata": {
    "collapsed": true
   },
   "outputs": [],
   "source": [
    "# Codewrite cell: Generate plots of learned classifier for all three kernel types, on dataset_A and datasset_B.\n",
    "# Plots should give both the learned classifier and the train data. \n",
    "# Similar to  Bishop Figure 4.5 (with just two classes here.)\n",
    "# Total number of plots = 3 * 2 = 6\n",
    "\n"
   ]
  },
  {
   "cell_type": "markdown",
   "metadata": {},
   "source": [
    "# 2. SVM\n",
    "\n",
    "Write code for learning SVM below. Also write code for choosing best hyperparameters for each kernel type. You may use sklearn.svm for this purpose. (use a part of training set as validation set)\n",
    "\n",
    "Write code for running in the cell after (You may be asked to demonstrate your code during the viva using this cell.)\n",
    "\n",
    "In text cell after that report the following numbers you get by running appropriate code:\n",
    "\n",
    "For each classification data set report the best kernel and regularisation parameters for linear, RBF and Poly kernels. (Linear has no kernel parameter.) Report the training and test zero-one error for those hyperparameters.\n",
    "\n",
    "For the synthetic classification datasets in 2-dimensions, also illustrate the learned classifier for each kernel setting. Do this in the last codeWrite cell for this question."
   ]
  },
  {
   "cell_type": "code",
   "execution_count": 10,
   "metadata": {
    "collapsed": true
   },
   "outputs": [],
   "source": [
    "# CodeWrite cell\n",
    "# Write SVM classifier using SKlearn\n",
    "# write only functions here\n",
    "\n",
    "def learn_SVM(X, Y, kernel='linear', reg_param=0., kernel_param=1.):\n",
    "    \"\"\"\n",
    "    Makes an svm.SVC object, fits it to X, Y, and returns the object\n",
    "    \"\"\"\n",
    "    svm_clf = svm.SVC(C=reg_param, kernel=kernel, coef0=1)\n",
    "    if kernel == 'rbf':\n",
    "        svm_clf.set_params(**{'gamma':kernel_param})\n",
    "    elif kernel == 'poly':\n",
    "        svm_clf.set_params(**{'degree':kernel_param, 'gamma':1})\n",
    "    svm_clf.fit(X, Y)\n",
    "    return svm_clf\n"
   ]
  },
  {
   "cell_type": "code",
   "execution_count": 13,
   "metadata": {
    "collapsed": true
   },
   "outputs": [
    {
     "name": "stdout",
     "output_type": "stream",
     "text": [
      "Dataset 0\n",
      "Kernel: linear\n",
      "Best lambda:0.1\n",
      "Train zero-one error: 0.1326666666666667\n",
      "Test zero-one error: 0.134\n",
      "Kernel: rbf\n",
      "Best lambda:0.1\n",
      "Best gamma: 10.0\n",
      "Train zero-one error: 0.0013333333333332975\n",
      "Test zero-one error: 0.0020000000000000018\n",
      "Kernel: poly\n",
      "Best lambda:0.0001\n",
      "Best degree: 8\n",
      "Train zero-one error: 0.010666666666666713\n",
      "Test zero-one error: 0.016000000000000014\n",
      "Dataset 1\n",
      "Kernel: linear\n",
      "Best lambda:0.01\n",
      "Train zero-one error: 0.17000000000000004\n",
      "Test zero-one error: 0.18799999999999994\n",
      "Kernel: rbf\n",
      "Best lambda:100000.0\n",
      "Best gamma: 0.0001\n",
      "Train zero-one error: 0.17466666666666664\n",
      "Test zero-one error: 0.20999999999999996\n",
      "Kernel: poly\n"
     ]
    }
   ],
   "source": [
    "# CodeWrite cell\n",
    "# Write code here for doing validation (for kernel_param and regularisation_param)\n",
    "# on a subset of the training set. \n",
    "# Also for generating the numbers that you report below.\n",
    "\n",
    "def accuracy_score(Y_true, Y_pred):\n",
    "    return np.size(Y_true[Y_true==Y_pred])/np.size(Y_true)\n",
    "\n",
    "def cross_validate(X, Y, kernel):\n",
    "    \"\"\"\n",
    "    Arguments:\n",
    "    X : Training data X_train, numpy array of shape (n,d)\n",
    "    Y : Training labels Y_train, numpy array of shape (n,)\n",
    "    kernel = choice of kernel, 'linear', 'rbf' or 'poly'\n",
    "\n",
    "    Returns a tuple (best_reg_param, best_kernel_param), choosing the best hyperparameters by performing cross-validation\n",
    "    \"\"\"\n",
    "    n = X.shape[0]\n",
    "    X_train = np.append(X[int(0.05*n):int(0.45*n)], X[int(0.55*n):int(0.95*n)], axis=0)\n",
    "    X_val = np.append(X[:int(0.05*n)], np.append(X[int(0.45*n):int(0.55*n)], X[int(0.95*n):], axis=0), axis=0)\n",
    "    Y_train = np.append(Y[int(0.05*n):int(0.45*n)], Y[int(0.55*n):int(0.95*n)], axis=0)\n",
    "    Y_val = np.append(Y[:int(0.05*n)], np.append(Y[int(0.45*n):int(0.55*n)], Y[int(0.95*n):], axis=0), axis=0)\n",
    "\n",
    "    # Check kernel type and set up list of kernel_params accordingly\n",
    "    # Also set up list of lambdas\n",
    "    powers_10 = [1e-5, 1e-4, 1e-3, 1e-2, 1e-1, 1, 1e1, 1e2, 1e3, 1e4, 1e5]\n",
    "    powers_2 = [1, 2, 4, 8, 16]\n",
    "    reg_params = np.array(powers_10)\n",
    "    kernel_params = np.array([0])\n",
    "    if kernel == 'rbf':\n",
    "        kernel_params = np.array(powers_10)\n",
    "    elif kernel == 'poly':\n",
    "        kernel_params = np.array(powers_2)\n",
    "    accuracies = np.zeros(shape=(np.size(reg_params), np.size(kernel_params)))\n",
    "    for i,reg_param in enumerate(reg_params):\n",
    "        for j,kernel_param in enumerate(kernel_params):\n",
    "            # alpha = train_pred_logistic_regression(X_train, Y_train, kernel, reg_param, kernel_param)\n",
    "            svm_clf = learn_SVM(X_train, Y_train, kernel, reg_param, kernel_param)\n",
    "            accuracies[i, j] = accuracy_score(Y_val, svm_clf.predict(X_val))\n",
    "    best_hyperparams = np.argmax(accuracies)\n",
    "    best_reg_param = reg_params[best_hyperparams // np.size(kernel_params)]\n",
    "    best_kernel_param = kernel_params[best_hyperparams % np.size(kernel_params)]\n",
    "    return (best_reg_param, best_kernel_param)\n",
    "\n",
    "datasets = [np.load(\"Datasets/dataset_A.npz\"), np.load(\"Datasets/dataset_B.npz\"), np.load(\"Datasets/dataset_C.npz\"), np.load(\"Datasets/dataset_D.npz\")]\n",
    "kernels = ['linear', 'rbf', 'poly']\n",
    "for i,dataset in enumerate(datasets):\n",
    "    X_train = dataset['arr_0']\n",
    "    Y_train = dataset['arr_1']\n",
    "    X_test = dataset['arr_2']\n",
    "    Y_test = dataset['arr_3']\n",
    "    print(\"Dataset \" + str(i))\n",
    "    for kernel in kernels:\n",
    "        print(\"Kernel: \" + kernel)\n",
    "        reg_param, kernel_param = cross_validate(X_train, Y_train, kernel)\n",
    "        print(\"Best lambda:\" + str(reg_param))\n",
    "        # print(\"Best kernel parameter: \" + str(kernel_param)) # handle for different kernels\n",
    "        if kernel == 'rbf':\n",
    "            print(\"Best gamma: \" + str(kernel_param))\n",
    "        elif kernel == 'poly':\n",
    "            print(\"Best degree: \" + str(kernel_param))\n",
    "        # alpha = train_pred_logistic_regression(X_train, Y_train, kernel, reg_param, kernel_param)\n",
    "        svm_clf = learn_SVM(X_train, Y_train, kernel, reg_param, kernel_param)\n",
    "        train_error = 1 - accuracy_score(Y_train, svm_clf.predict(X_train))\n",
    "        print(\"Train zero-one error: \" + str(train_error))\n",
    "        test_error = 1 - accuracy_score(Y_test, svm_clf.predict(X_test))\n",
    "        print(\"Test zero-one error: \" + str(test_error))"
   ]
  },
  {
   "cell_type": "markdown",
   "metadata": {},
   "source": [
    "TextWrite Cell: Give your observations and the list of hyperparameter choices and train zero-one error  and test zero-one error for all three kernel choices, for all 4 datasets (2 real world and 2 synthetic).  \n"
   ]
  },
  {
   "cell_type": "code",
   "execution_count": null,
   "metadata": {
    "collapsed": true
   },
   "outputs": [],
   "source": [
    "# Codewrite cell: Generate plots of learned classifier for all three kernel types, on dataset_A and datasset_B.\n",
    "# Plots should give both the learned classifier and the train data. \n",
    "# Similar to  Bishop Figure 4.5 (with just two classes here.)\n",
    "# Total number of plots = 3 * 2 = 6\n",
    "\n",
    "\n"
   ]
  },
  {
   "cell_type": "markdown",
   "metadata": {
    "collapsed": true
   },
   "source": [
    "# 3. Decision Tree\n",
    "\n",
    "Write code for learning decision tree below. Take as an argument a hyperparameter on what size node to stop splitting. Use a part of training set as validation set.\n",
    "\n",
    "Write code for running in the cell after (You may be asked to demonstrate your code during the viva using this cell.)\n",
    "\n",
    "In text cell after that report the following numbers you get by running appropriate code:\n",
    "\n",
    "For all four data sets  report the best node size to stop splitting. Report the training and test zero-one error for those hyperparameters.\n",
    "\n",
    "For datasets A and B, also illustrate the learned classifier. Do this in the last codeWrite cell for this question.\n",
    "\n",
    "Important: Think about how you will represent a decision tree. (Possible soln: Store as a list of tuples containing node position, attribute to split, threshold, class to classifiy (if leaf node) )\n"
   ]
  },
  {
   "cell_type": "code",
   "execution_count": null,
   "metadata": {
    "collapsed": true
   },
   "outputs": [],
   "source": [
    "# CodeWrite cell\n",
    "# Write Decision tree classifier from scratch, \n",
    "# write only functions here (you may write extra functions here if you wish)\n",
    "def train_decision_tree(X, Y, num_nodes_stop=1, criterion='accuracy'):\n",
    "    \"\"\" Returns a decision tree trained on X and Y. \n",
    "    Stops splitting nodes when a node has hit a size of \"num_nodes_stop\" or lower.\n",
    "    Split criterion can be either 'accuracy' or 'entropy'.\n",
    "    Returns a tree (In whatever format that you find appropriate)\n",
    "    \"\"\"\n",
    "    \n",
    "\n",
    "def eval_decision_tree(tree, test_X):\n",
    "    \"\"\" Takes in a tree, and a bunch of instances X and \n",
    "    returns the tree predicted values at those instances.\"\"\"\n",
    "\n",
    "\n",
    "\n"
   ]
  },
  {
   "cell_type": "code",
   "execution_count": 6,
   "metadata": {
    "collapsed": true
   },
   "outputs": [],
   "source": [
    "# CodeWrite cell\n",
    "# Write code here for doing validation to find the best hyperparameters (i.e. num_nodes_stop)\n",
    "# Also Generate the numbers that you report below. \n",
    "# Repeat with criterion set to entropy also.\n",
    "\n"
   ]
  },
  {
   "cell_type": "markdown",
   "metadata": {},
   "source": [
    "TextWrite cell: Give your observations and the list of hyperparameter choices and train zero-one error  and test zero-one error, for all 4 datasets (2 real world and 2 synthetic).  \n",
    "\n"
   ]
  },
  {
   "cell_type": "code",
   "execution_count": null,
   "metadata": {
    "collapsed": true
   },
   "outputs": [],
   "source": [
    "## Codewrite cell: Generate plots of learned decision tree classifier on dataset_A and datasset_B.\n",
    "# Plots should give both the learned classifier and the train data. \n",
    "# Plots only required for the accuracy criterion.\n",
    "# Similar to  Bishop Figure 4.5 (with just two classes here.)\n",
    "# Total number of plots = 2 \n",
    "\n",
    "\n"
   ]
  },
  {
   "cell_type": "markdown",
   "metadata": {
    "collapsed": true
   },
   "source": [
    "# 4 Random Forest classifier\n",
    "\n",
    "Write code for learning RandomForests below. Fix the following hyper parameters: (Fraction of data to learn tree=0.5, Fraction of number of features chosen in each node=0.5, num_nodes_stop=1).  Choose the number of trees to add in the forest by using a validation set. You may use a slightly modified version of the decision tree code you had written earlier.\n",
    "\n",
    "Write code for running in the cell after the nest. (You may be asked to demonstrate your code during the viva using this cell.) \n",
    "\n",
    "In text cell after that report the following numbers you get by running appropriate code:\n",
    "\n",
    "For all 4 data sets (A,B,C,D)  report the best number of trees found. Report the training and test zero-one error for those hyperparameters.\n",
    "\n",
    "For the synthetic classification datasets (datasets A and B) in 2-dimensions, also illustrate the learned classifier for each kernel setting. Do this in the last codeWrite cell for this question."
   ]
  },
  {
   "cell_type": "code",
   "execution_count": null,
   "metadata": {
    "collapsed": true
   },
   "outputs": [],
   "source": [
    "# CodeWrite cell\n",
    "# Write Random Forest classifier. \n",
    "def train_random_forest(X, Y, num_trees=10, num_nodes_stop=1, \n",
    "                        criterion='accuracy', a=0.5, b=0.5):\n",
    "    \"\"\" Returns a random forest trained on X and Y. \n",
    "    Trains num_trees.\n",
    "    Stops splitting nodes in each tree when a node has hit a size of \"num_nodes_stop\" or lower.\n",
    "    Split criterion can be either 'accuracy' or 'entropy'.\n",
    "    Fraction of data used per tree = a\n",
    "    Fraction of features used in each node = b\n",
    "    Returns a random forest (In whatever format that you find appropriate)\n",
    "    \"\"\"\n",
    "    \n",
    "\n",
    "def eval_random_forest(random_forest, test_X):\n",
    "    \"\"\" Takes in a  random forest object (hhowever you want to store it), and a bunch of instances X and \n",
    "    returns the tree predicted values at those instances.\"\"\"\n",
    "\n",
    "\n"
   ]
  },
  {
   "cell_type": "code",
   "execution_count": null,
   "metadata": {
    "collapsed": true
   },
   "outputs": [],
   "source": [
    "# CodeWrite cell\n",
    "# Write code for choosing the best hyperparameters (num_trees, num_nodes_stop)\n",
    "# Write code here for generating the numbers that you report below.\n",
    "# Repeat above for criterion set to entropy also.\n",
    "\n"
   ]
  },
  {
   "cell_type": "markdown",
   "metadata": {},
   "source": [
    "TextWrite cell: Give your observations and the list of hyperparameter choices and train zero-one error  and test zero-one error, for all 4 datasets (2 real world and 2 synthetic).  \n"
   ]
  },
  {
   "cell_type": "code",
   "execution_count": 3,
   "metadata": {
    "collapsed": true
   },
   "outputs": [],
   "source": [
    "## Codewrite cell: Generate plots of learned Random Forest classifier on dataset_A and datasset_B.\n",
    "# Plots should give both the learned classifier and the train data. \n",
    "# Plots required only for the accuracy criterion.\n",
    "# Similar to  Bishop Figure 4.5 (with just two classes here.)\n",
    "# Total number of plots = 2 \n"
   ]
  },
  {
   "cell_type": "markdown",
   "metadata": {},
   "source": [
    "# 5 AdaBoost\n",
    "\n",
    "Write code for learning using AdaBoost below. Use 3 different weak learners below. (You may reuse code written above)\n",
    "\n",
    "1. 1 node decision tree \n",
    "2. Decision tree of fixed depth = 3 (Root, child, grand child)\n",
    "3. Decision tree of fixed depth = 7 (Root, child, grand child, ..., great^4 grand child)\n",
    "\n",
    "Run for 50 iterations. You may use the accuracy split criterion for all the three weak learners.\n",
    "\n",
    "Write code for running in the next cell. (You may be asked to demonstrate your code during the viva using this cell.) \n",
    "\n",
    "In text cell after that report the following numbers you get by running appropriate code:\n",
    "\n",
    "For all 4 data sets (A,B,C,D)  plot the train and test accuracy vs iterations. A total of 12 plots is expected. 4 datasets * 3 weak learners. Each plot should contain two curves, train and test error.  \n",
    "\n",
    "For the synthetic classification datasets (datasets A and B) in 2-dimensions, also illustrate the learned classifier for each weak learner setting. A total of 6 contourf style plots are expected here. Do this in the last codeWrite cell for this question.\n",
    "\n",
    "Summarise your observations in the last textwrite cell."
   ]
  },
  {
   "cell_type": "code",
   "execution_count": 4,
   "metadata": {
    "collapsed": true
   },
   "outputs": [],
   "source": [
    "# Codewrite cell\n",
    "# Write code to run here (no plotting)\n"
   ]
  },
  {
   "cell_type": "code",
   "execution_count": 5,
   "metadata": {
    "collapsed": true
   },
   "outputs": [],
   "source": [
    "# Codewrite cell \n",
    "# Plots for iteration vs error here\n"
   ]
  },
  {
   "cell_type": "code",
   "execution_count": 6,
   "metadata": {
    "collapsed": true
   },
   "outputs": [],
   "source": [
    "# Codewrite cell \n",
    "# Plots for illustrating the classifier here\n"
   ]
  },
  {
   "cell_type": "markdown",
   "metadata": {},
   "source": [
    "Textwrite cell:"
   ]
  }
 ],
 "metadata": {
  "kernelspec": {
   "display_name": "Python 3.10.6 64-bit",
   "language": "python",
   "name": "python3"
  },
  "language_info": {
   "codemirror_mode": {
    "name": "ipython",
    "version": 3
   },
   "file_extension": ".py",
   "mimetype": "text/x-python",
   "name": "python",
   "nbconvert_exporter": "python",
   "pygments_lexer": "ipython3",
   "version": "3.10.6"
  },
  "vscode": {
   "interpreter": {
    "hash": "916dbcbb3f70747c44a77c7bcd40155683ae19c65e1c03b4aa3499c5328201f1"
   }
  }
 },
 "nbformat": 4,
 "nbformat_minor": 2
}
