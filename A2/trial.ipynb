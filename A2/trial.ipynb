{
 "cells": [
  {
   "cell_type": "code",
   "execution_count": 1,
   "metadata": {},
   "outputs": [],
   "source": [
    "import numpy as np\n",
    "import matplotlib.pyplot as plt\n",
    "from sklearn import svm\n",
    "import matplotlib as mpl\n",
    "import pandas as pd"
   ]
  },
  {
   "cell_type": "code",
   "execution_count": 5,
   "metadata": {},
   "outputs": [
    {
     "data": {
      "text/plain": [
       "['arr_0', 'arr_1', 'arr_2', 'arr_3']"
      ]
     },
     "execution_count": 5,
     "metadata": {},
     "output_type": "execute_result"
    }
   ],
   "source": [
    "np.load(\"Datasets/dataset_A.npz\").files"
   ]
  },
  {
   "cell_type": "code",
   "execution_count": 4,
   "metadata": {},
   "outputs": [
    {
     "data": {
      "text/plain": [
       "array([[-0.72530338,  0.82268144],\n",
       "       [ 0.02619935,  0.20195171],\n",
       "       [ 0.68680741,  0.40459509],\n",
       "       ...,\n",
       "       [ 0.53226229, -0.35801377],\n",
       "       [ 0.6113741 , -0.5773362 ],\n",
       "       [ 0.3991032 , -0.21454145]])"
      ]
     },
     "execution_count": 4,
     "metadata": {},
     "output_type": "execute_result"
    }
   ],
   "source": [
    "datasets = [np.load(\"Datasets/dataset_A.npz\"), np.load(\"Datasets/dataset_B.npz\"), np.load(\"Datasets/dataset_C.npz\"), np.load(\"Datasets/dataset_D.npz\")]\n",
    "datasets[0].files\n",
    "datasets[0]['arr_0']"
   ]
  },
  {
   "cell_type": "code",
   "execution_count": 8,
   "metadata": {},
   "outputs": [
    {
     "data": {
      "text/plain": [
       "array([2, 5, 8])"
      ]
     },
     "execution_count": 8,
     "metadata": {},
     "output_type": "execute_result"
    }
   ],
   "source": [
    "arr = np.array([\n",
    "    np.array([1, 2, 3]),\n",
    "    np.array([4, 5, 6]),\n",
    "    np.array([7, 8, 9])\n",
    "])\n",
    "arr[:,1]"
   ]
  },
  {
   "cell_type": "code",
   "execution_count": 10,
   "metadata": {},
   "outputs": [
    {
     "data": {
      "text/plain": [
       "14"
      ]
     },
     "execution_count": 10,
     "metadata": {},
     "output_type": "execute_result"
    }
   ],
   "source": [
    "np.dot(np.transpose(np.array([1, 2, 3])), np.array([1, 2, 3]))"
   ]
  },
  {
   "cell_type": "code",
   "execution_count": 5,
   "metadata": {},
   "outputs": [
    {
     "data": {
      "text/plain": [
       "array([[ 4,  5,  6],\n",
       "       [ 7,  8,  9],\n",
       "       [22, 23, 24],\n",
       "       [25, 26, 27],\n",
       "       [28, 29, 30]])"
      ]
     },
     "execution_count": 5,
     "metadata": {},
     "output_type": "execute_result"
    }
   ],
   "source": [
    "X = np.array([\n",
    "    np.array([1, 2, 3]),\n",
    "    np.array([4, 5, 6]),\n",
    "    np.array([7, 8, 9]),\n",
    "    np.array([10, 11, 12]),\n",
    "    np.array([13, 14, 15]),\n",
    "    np.array([16, 17, 18]),\n",
    "    np.array([19, 20, 21]),\n",
    "    np.array([22, 23, 24]),\n",
    "    np.array([25, 26, 27]),\n",
    "    np.array([28, 29, 30])\n",
    "])\n",
    "np.append(X[1:3], X[7:], axis=0)"
   ]
  },
  {
   "cell_type": "code",
   "execution_count": 7,
   "metadata": {},
   "outputs": [
    {
     "data": {
      "text/plain": [
       "array([[ 1,  2,  3],\n",
       "       [ 4,  5,  6],\n",
       "       [ 7,  8,  9],\n",
       "       [10, 11, 12]])"
      ]
     },
     "execution_count": 7,
     "metadata": {},
     "output_type": "execute_result"
    }
   ],
   "source": [
    "X[:4]"
   ]
  },
  {
   "cell_type": "code",
   "execution_count": 10,
   "metadata": {},
   "outputs": [
    {
     "data": {
      "text/plain": [
       "2.0999999999999996"
      ]
     },
     "execution_count": 10,
     "metadata": {},
     "output_type": "execute_result"
    }
   ],
   "source": [
    "5.1%3"
   ]
  },
  {
   "cell_type": "code",
   "execution_count": 12,
   "metadata": {},
   "outputs": [
    {
     "data": {
      "text/plain": [
       "2.0999999999999996"
      ]
     },
     "execution_count": 12,
     "metadata": {},
     "output_type": "execute_result"
    }
   ],
   "source": [
    "5.1 - 3*(5.1//3)"
   ]
  },
  {
   "cell_type": "code",
   "execution_count": 13,
   "metadata": {},
   "outputs": [
    {
     "data": {
      "text/plain": [
       "0.09999999999999964"
      ]
     },
     "execution_count": 13,
     "metadata": {},
     "output_type": "execute_result"
    }
   ],
   "source": [
    "5.1 - 3*5.1//3"
   ]
  },
  {
   "cell_type": "code",
   "execution_count": 25,
   "metadata": {},
   "outputs": [
    {
     "data": {
      "text/plain": [
       "0.5"
      ]
     },
     "execution_count": 25,
     "metadata": {},
     "output_type": "execute_result"
    }
   ],
   "source": [
    "svclf = svm.SVC()\n",
    "gamma=0.5\n",
    "svclf.set_params(**{'gamma':gamma, 'degree':5})\n",
    "svclf.gamma"
   ]
  },
  {
   "cell_type": "code",
   "execution_count": 24,
   "metadata": {},
   "outputs": [
    {
     "data": {
      "text/plain": [
       "5"
      ]
     },
     "execution_count": 24,
     "metadata": {},
     "output_type": "execute_result"
    }
   ],
   "source": [
    "svclf.degree"
   ]
  },
  {
   "cell_type": "code",
   "execution_count": 51,
   "metadata": {},
   "outputs": [
    {
     "data": {
      "text/plain": [
       "(1500,)"
      ]
     },
     "execution_count": 51,
     "metadata": {},
     "output_type": "execute_result"
    }
   ],
   "source": [
    "np.unique(datasets[0]['arr_0'][:,0]).shape\n",
    "# datasets[0]['arr_0'].shape"
   ]
  },
  {
   "cell_type": "code",
   "execution_count": 2,
   "metadata": {},
   "outputs": [],
   "source": [
    "def learn_SVM(X, Y, kernel='linear', reg_param=0., kernel_param=1.):\n",
    "    \"\"\"\n",
    "    Makes an svm.SVC object, fits it to X, Y, and returns the object\n",
    "    \"\"\"\n",
    "    svm_clf = svm.SVC(C=reg_param, kernel=kernel, coef0=1)\n",
    "    if kernel == 'rbf':\n",
    "        svm_clf.set_params(**{'gamma':kernel_param})\n",
    "    elif kernel == 'poly':\n",
    "        svm_clf.set_params(**{'degree':kernel_param, 'gamma':1})\n",
    "    svm_clf.fit(X, Y)\n",
    "    return svm_clf"
   ]
  },
  {
   "cell_type": "code",
   "execution_count": 9,
   "metadata": {},
   "outputs": [
    {
     "name": "stdout",
     "output_type": "stream",
     "text": [
      "1\n",
      "0.001\n",
      "linear\n",
      "scale\n",
      "3\n"
     ]
    }
   ],
   "source": [
    "saved_svm = learn_SVM(datasets[0]['arr_0'], datasets[0]['arr_1'], 'linear', 1e-3, 1e1)\n",
    "print(saved_svm.coef0)\n",
    "print(saved_svm.C)\n",
    "print(saved_svm.kernel)\n",
    "print(saved_svm.gamma)\n",
    "print(saved_svm.degree)"
   ]
  },
  {
   "cell_type": "code",
   "execution_count": 11,
   "metadata": {},
   "outputs": [
    {
     "data": {
      "text/plain": [
       "(400, 30)"
      ]
     },
     "execution_count": 11,
     "metadata": {},
     "output_type": "execute_result"
    }
   ],
   "source": [
    "datasets[3]['arr_0'].shape"
   ]
  },
  {
   "cell_type": "code",
   "execution_count": 16,
   "metadata": {},
   "outputs": [
    {
     "data": {
      "text/plain": [
       "16.0"
      ]
     },
     "execution_count": 16,
     "metadata": {},
     "output_type": "execute_result"
    }
   ],
   "source": [
    "np.max(datasets[2]['arr_0'])"
   ]
  },
  {
   "cell_type": "code",
   "execution_count": 20,
   "metadata": {},
   "outputs": [
    {
     "data": {
      "text/plain": [
       "643"
      ]
     },
     "execution_count": 20,
     "metadata": {},
     "output_type": "execute_result"
    }
   ],
   "source": [
    "dict = {\n",
    "    'sample1': 46,\n",
    "    'sample2': 643,\n",
    "    'sample3': 'heks',\n",
    "    'random' : 2.3\n",
    "}\n",
    "dict['sample2']"
   ]
  },
  {
   "cell_type": "code",
   "execution_count": 25,
   "metadata": {},
   "outputs": [
    {
     "data": {
      "text/plain": [
       "[[4, 5, 6], [7, 8, 9], [10, 11, 12]]"
      ]
     },
     "execution_count": 25,
     "metadata": {},
     "output_type": "execute_result"
    }
   ],
   "source": [
    "X = [[1, 2, 3],\n",
    "    [4, 5, 6],\n",
    "    [7, 8, 9],\n",
    "    [10, 11, 12]]\n",
    "X_sub = list(x for x in X if x[1] >= 5)\n",
    "X_sub"
   ]
  },
  {
   "cell_type": "code",
   "execution_count": 36,
   "metadata": {},
   "outputs": [
    {
     "data": {
      "text/plain": [
       "<function list.count(value, /)>"
      ]
     },
     "execution_count": 36,
     "metadata": {},
     "output_type": "execute_result"
    }
   ],
   "source": [
    "X = [[1, 2, 3],\n",
    "    [4, 5, 6],\n",
    "    [7, 8, 9],\n",
    "    [10, 11, 12]]\n",
    "Y = [40, 10, 32, 43]\n",
    "Y_sub = list(Y[i] for i,x in enumerate(X) if x[1] >= 5)\n",
    "Y_sub"
   ]
  },
  {
   "cell_type": "code",
   "execution_count": 27,
   "metadata": {},
   "outputs": [
    {
     "data": {
      "text/plain": [
       "3"
      ]
     },
     "execution_count": 27,
     "metadata": {},
     "output_type": "execute_result"
    }
   ],
   "source": [
    "np.size([1, 2, 3])"
   ]
  },
  {
   "cell_type": "code",
   "execution_count": 28,
   "metadata": {},
   "outputs": [
    {
     "data": {
      "text/plain": [
       "3"
      ]
     },
     "execution_count": 28,
     "metadata": {},
     "output_type": "execute_result"
    }
   ],
   "source": [
    "np.size((4, 3, False))"
   ]
  },
  {
   "cell_type": "code",
   "execution_count": 31,
   "metadata": {},
   "outputs": [
    {
     "data": {
      "text/plain": [
       "2"
      ]
     },
     "execution_count": 31,
     "metadata": {},
     "output_type": "execute_result"
    }
   ],
   "source": [
    "lst = [3, 3, 2, 4, 2, 3, 2]\n",
    "max(set(lst), key=lst.count)"
   ]
  },
  {
   "cell_type": "code",
   "execution_count": 35,
   "metadata": {},
   "outputs": [
    {
     "data": {
      "text/plain": [
       "False"
      ]
     },
     "execution_count": 35,
     "metadata": {},
     "output_type": "execute_result"
    }
   ],
   "source": [
    "np.size(np.unique(lst)) == 1"
   ]
  },
  {
   "cell_type": "code",
   "execution_count": 38,
   "metadata": {},
   "outputs": [
    {
     "data": {
      "text/plain": [
       "5"
      ]
     },
     "execution_count": 38,
     "metadata": {},
     "output_type": "execute_result"
    }
   ],
   "source": [
    "x = 5\n",
    "y = x\n",
    "y = y + 2\n",
    "x"
   ]
  },
  {
   "cell_type": "code",
   "execution_count": 43,
   "metadata": {},
   "outputs": [
    {
     "data": {
      "text/plain": [
       "array(<generator object <genexpr> at 0x7f16813473e0>, dtype=object)"
      ]
     },
     "execution_count": 43,
     "metadata": {},
     "output_type": "execute_result"
    }
   ],
   "source": [
    "lst = np.array(list(x for x in [[1, 2, 3], [4, 5, 6], [7, 8, 9]]))\n",
    "lst"
   ]
  },
  {
   "cell_type": "code",
   "execution_count": 44,
   "metadata": {},
   "outputs": [
    {
     "data": {
      "text/plain": [
       "2.0"
      ]
     },
     "execution_count": 44,
     "metadata": {},
     "output_type": "execute_result"
    }
   ],
   "source": [
    "np.log2(4)"
   ]
  },
  {
   "cell_type": "code",
   "execution_count": 12,
   "metadata": {},
   "outputs": [
    {
     "data": {
      "text/plain": [
       "[1, 1]"
      ]
     },
     "execution_count": 12,
     "metadata": {},
     "output_type": "execute_result"
    }
   ],
   "source": [
    "Y = [1, 2, 3, 1, 4, 3, 2]\n",
    "list(y for y in Y if y==1)"
   ]
  },
  {
   "cell_type": "code",
   "execution_count": 18,
   "metadata": {},
   "outputs": [
    {
     "data": {
      "text/plain": [
       "0.6666666666666666"
      ]
     },
     "execution_count": 18,
     "metadata": {},
     "output_type": "execute_result"
    }
   ],
   "source": [
    "def accuracy_score(Y_true, Y_pred):\n",
    "    return np.size(Y_true[Y_true==Y_pred])/np.size(Y_true)\n",
    "\n",
    "accuracy_score(np.array([1, 3, 2]), np.array([1, 2, 2]))\n",
    "# Y_true = np.array([1, 3, 2])\n",
    "# Y_pred = np.array([1, 2, 2])\n",
    "# np.size(Y_pred[Y_true==Y_pred])"
   ]
  },
  {
   "cell_type": "code",
   "execution_count": 19,
   "metadata": {},
   "outputs": [
    {
     "data": {
      "text/plain": [
       "(2,)"
      ]
     },
     "execution_count": 19,
     "metadata": {},
     "output_type": "execute_result"
    }
   ],
   "source": [
    "Y = np.array([1, 3, 2, 4, 1])\n",
    "Y[Y==1].shape"
   ]
  },
  {
   "cell_type": "code",
   "execution_count": 20,
   "metadata": {},
   "outputs": [
    {
     "data": {
      "text/plain": [
       "6"
      ]
     },
     "execution_count": 20,
     "metadata": {},
     "output_type": "execute_result"
    }
   ],
   "source": [
    "np.sum([1, 2, 3])"
   ]
  },
  {
   "cell_type": "code",
   "execution_count": 3,
   "metadata": {},
   "outputs": [
    {
     "data": {
      "text/plain": [
       "[[0.0, 0.0, 0.0], [0.0, 0.0, 0.0], [0.0, 0.0, 0.0], [0.0, 0.0, 0.0]]"
      ]
     },
     "execution_count": 3,
     "metadata": {},
     "output_type": "execute_result"
    }
   ],
   "source": [
    "np.zeros((4,3)).tolist()"
   ]
  },
  {
   "cell_type": "code",
   "execution_count": 4,
   "metadata": {},
   "outputs": [],
   "source": [
    "l1 = np.array([\n",
    "    [0, 1],\n",
    "    [-1, 4],\n",
    "    [1, 3],\n",
    "    [4, 2]\n",
    "])\n",
    "l2 = l1.copy()"
   ]
  },
  {
   "cell_type": "code",
   "execution_count": 6,
   "metadata": {},
   "outputs": [
    {
     "data": {
      "text/plain": [
       "array([-1,  0,  1,  4])"
      ]
     },
     "execution_count": 6,
     "metadata": {},
     "output_type": "execute_result"
    }
   ],
   "source": [
    "np.unique(l2[:,0])"
   ]
  },
  {
   "cell_type": "code",
   "execution_count": 7,
   "metadata": {},
   "outputs": [
    {
     "data": {
      "text/plain": [
       "array([[-1,  4],\n",
       "       [ 0,  1],\n",
       "       [ 1,  3],\n",
       "       [ 4,  2]])"
      ]
     },
     "execution_count": 7,
     "metadata": {},
     "output_type": "execute_result"
    }
   ],
   "source": [
    "l2[l2[:,0].argsort()]"
   ]
  },
  {
   "cell_type": "code",
   "execution_count": 8,
   "metadata": {},
   "outputs": [
    {
     "data": {
      "text/plain": [
       "array([[ 0,  1],\n",
       "       [-1,  4],\n",
       "       [ 1,  3],\n",
       "       [ 4,  2]])"
      ]
     },
     "execution_count": 8,
     "metadata": {},
     "output_type": "execute_result"
    }
   ],
   "source": [
    "l2"
   ]
  },
  {
   "cell_type": "code",
   "execution_count": 10,
   "metadata": {},
   "outputs": [
    {
     "data": {
      "text/plain": [
       "array([1, 4, 3, 2])"
      ]
     },
     "execution_count": 10,
     "metadata": {},
     "output_type": "execute_result"
    }
   ],
   "source": [
    "l3 = np.array([1, 2, 3, 4])\n",
    "l3[l2[:,1].argsort()]"
   ]
  },
  {
   "cell_type": "code",
   "execution_count": 16,
   "metadata": {},
   "outputs": [
    {
     "data": {
      "text/plain": [
       "(1500, 2)"
      ]
     },
     "execution_count": 16,
     "metadata": {},
     "output_type": "execute_result"
    }
   ],
   "source": [
    "X_real = np.load(\"Datasets/dataset_A.npz\")['arr_0']\n",
    "X_real[X_real[:,0].argsort()].shape"
   ]
  },
  {
   "cell_type": "code",
   "execution_count": 25,
   "metadata": {},
   "outputs": [],
   "source": [
    "i = 0\n",
    "dataset = np.load(\"Datasets/dataset_A.npz\")\n",
    "X = dataset['arr_0']\n",
    "Y = dataset['arr_1']\n",
    "choices = np.unique(X[:,i])\n",
    "left_pts = 0\n",
    "right_pts = X.shape[0]\n",
    "left_pos_pts = 0\n",
    "right_pos_pts = np.size(Y[Y==1])\n",
    "next_index = 0\n",
    "X_sort = X[X[:,i].argsort()]\n",
    "Y_sort = Y[X[:,i].argsort()]\n",
    "for choice in choices:\n",
    "     while (next_index < X.shape[0] and X_sort[next_index, i] == choice):\n",
    "        left_pts = left_pts + 1\n",
    "        right_pts = right_pts - 1\n",
    "        if Y_sort[next_index] == 1:\n",
    "            left_pos_pts = left_pos_pts + 1\n",
    "            right_pos_pts = right_pos_pts -1\n",
    "        next_index = next_index + 1"
   ]
  },
  {
   "cell_type": "code",
   "execution_count": 28,
   "metadata": {},
   "outputs": [],
   "source": [
    "dataset = np.load(\"Datasets/dataset_A.npz\")\n",
    "X = dataset['arr_0']\n",
    "Y = dataset['arr_1']\n",
    "choices = np.unique(X[:,i])\n",
    "left_pts = 0\n",
    "right_pts = X.shape[0]\n",
    "left_pos_pts = 0\n",
    "right_pos_pts = np.size(Y[Y==1])\n",
    "for choice in choices:\n",
    "    Y_curr = np.array(list(Y[j] for j,x in enumerate(X) if x[i] == choice))\n",
    "    left_pts = left_pts + np.size(Y_curr)\n",
    "    right_pts = right_pts - np.size(Y_curr)\n",
    "    left_pos_pts = left_pos_pts + np.size(Y_curr[Y_curr==1])\n",
    "    right_pos_pts = right_pos_pts - np.size(Y_curr[Y_curr==1])"
   ]
  },
  {
   "cell_type": "code",
   "execution_count": 32,
   "metadata": {},
   "outputs": [
    {
     "data": {
      "text/plain": [
       "3"
      ]
     },
     "execution_count": 32,
     "metadata": {},
     "output_type": "execute_result"
    }
   ],
   "source": [
    "Y = np.array([1, -1, 1, 1, -1, -1, -1])\n",
    "Y[Y==1].shape[0] >= Y[Y==-1].shape[0]\n",
    "np.size(Y[Y==1])"
   ]
  },
  {
   "cell_type": "code",
   "execution_count": 35,
   "metadata": {},
   "outputs": [
    {
     "data": {
      "text/plain": [
       "3"
      ]
     },
     "execution_count": 35,
     "metadata": {},
     "output_type": "execute_result"
    }
   ],
   "source": [
    "np.max([2, 3])"
   ]
  },
  {
   "cell_type": "code",
   "execution_count": 36,
   "metadata": {},
   "outputs": [
    {
     "name": "stderr",
     "output_type": "stream",
     "text": [
      "/tmp/ipykernel_6767/2251961259.py:1: RuntimeWarning: divide by zero encountered in log2\n",
      "  np.log2(0)\n"
     ]
    },
    {
     "data": {
      "text/plain": [
       "-inf"
      ]
     },
     "execution_count": 36,
     "metadata": {},
     "output_type": "execute_result"
    }
   ],
   "source": [
    "np.log2(0)"
   ]
  },
  {
   "cell_type": "code",
   "execution_count": 37,
   "metadata": {},
   "outputs": [
    {
     "name": "stderr",
     "output_type": "stream",
     "text": [
      "/tmp/ipykernel_6767/1076561811.py:1: RuntimeWarning: divide by zero encountered in log2\n",
      "  0 * np.log2(0)\n",
      "/tmp/ipykernel_6767/1076561811.py:1: RuntimeWarning: invalid value encountered in double_scalars\n",
      "  0 * np.log2(0)\n"
     ]
    },
    {
     "data": {
      "text/plain": [
       "nan"
      ]
     },
     "execution_count": 37,
     "metadata": {},
     "output_type": "execute_result"
    }
   ],
   "source": [
    "0 * np.log2(0)"
   ]
  },
  {
   "cell_type": "code",
   "execution_count": 42,
   "metadata": {},
   "outputs": [
    {
     "data": {
      "text/plain": [
       "False"
      ]
     },
     "execution_count": 42,
     "metadata": {},
     "output_type": "execute_result"
    }
   ],
   "source": [
    "X = np.array([1, 2, 3])\n",
    "Y = np.array([1, 4, 3])\n",
    "(X == Y).all()"
   ]
  },
  {
   "cell_type": "code",
   "execution_count": 49,
   "metadata": {},
   "outputs": [
    {
     "name": "stdout",
     "output_type": "stream",
     "text": [
      "[[1 2 3]\n",
      " [2 3 4]\n",
      " [3 4 5]\n",
      " [4 5 6]]\n",
      "[[2 3 4]\n",
      " [3 4 5]\n",
      " [4 5 6]]\n",
      "[[3 4 5]\n",
      " [4 5 6]]\n"
     ]
    }
   ],
   "source": [
    "X = np.array([\n",
    "    np.array([1, 2, 3]),\n",
    "    np.array([2, 3, 4]),\n",
    "    np.array([3, 4, 5]),\n",
    "    np.array([4, 5, 6])\n",
    "])\n",
    "print(X)\n",
    "print(X[1:])\n",
    "Y = np.array(list(x for x in X if x[1] > 3))\n",
    "print(Y)"
   ]
  },
  {
   "cell_type": "code",
   "execution_count": 60,
   "metadata": {},
   "outputs": [
    {
     "name": "stdout",
     "output_type": "stream",
     "text": [
      "<class 'numpy.ndarray'>\n",
      "<class 'numpy.ndarray'>\n",
      "<class 'numpy.ndarray'>\n",
      "<class 'numpy.ndarray'>\n",
      "<class 'numpy.ndarray'>\n",
      "Yay\n"
     ]
    },
    {
     "data": {
      "text/plain": [
       "True"
      ]
     },
     "execution_count": 60,
     "metadata": {},
     "output_type": "execute_result"
    }
   ],
   "source": [
    "X = np.array([\n",
    "    np.array([1, 2, 3]),\n",
    "    np.array([2, 3, 4]),\n",
    "    np.array([3, 4, 5]),\n",
    "    np.array([4, 5, 6])\n",
    "])\n",
    "for x in X:\n",
    "    print(type(x))\n",
    "Y = np.array([\n",
    "    np.array([7, 2, 3]),\n",
    "    np.array([2, 3, 4]),\n",
    "    np.array([3, 4, 5]),\n",
    "    np.array([4, 5, 6])\n",
    "])\n",
    "Z = np.array([\n",
    "    np.array([1, 2, 3]),\n",
    "    np.array([2, 3, 4]),\n",
    "    np.array([3, 4, 5]),\n",
    "    np.array([4, 5, 6])\n",
    "])\n",
    "print(type(Z))\n",
    "if (X == Y).all() or (X == Z).all():\n",
    "    print(\"Yay\")\n",
    "else:\n",
    "    print(\"Noo\")\n",
    "X.shape == Y.shape"
   ]
  },
  {
   "cell_type": "code",
   "execution_count": 65,
   "metadata": {},
   "outputs": [
    {
     "data": {
      "text/plain": [
       "(40,)"
      ]
     },
     "execution_count": 65,
     "metadata": {},
     "output_type": "execute_result"
    }
   ],
   "source": [
    "np.array(range(1,41)).shape"
   ]
  },
  {
   "cell_type": "code",
   "execution_count": 73,
   "metadata": {},
   "outputs": [
    {
     "data": {
      "text/plain": [
       "[3]"
      ]
     },
     "execution_count": 73,
     "metadata": {},
     "output_type": "execute_result"
    }
   ],
   "source": [
    "l1 = []\n",
    "l1.append(3)\n",
    "l1"
   ]
  },
  {
   "cell_type": "code",
   "execution_count": 74,
   "metadata": {},
   "outputs": [
    {
     "data": {
      "text/plain": [
       "2"
      ]
     },
     "execution_count": 74,
     "metadata": {},
     "output_type": "execute_result"
    }
   ],
   "source": [
    "int(0.5 * 5)"
   ]
  },
  {
   "cell_type": "code",
   "execution_count": 81,
   "metadata": {},
   "outputs": [
    {
     "data": {
      "text/plain": [
       "array([[2, 3, 4],\n",
       "       [1, 2, 3]])"
      ]
     },
     "execution_count": 81,
     "metadata": {},
     "output_type": "execute_result"
    }
   ],
   "source": [
    "X = np.array([\n",
    "    np.array([1, 2, 3]),\n",
    "    np.array([2, 3, 4]),\n",
    "    np.array([3, 4, 5]),\n",
    "    np.array([4, 5, 6])\n",
    "])\n",
    "a = 0.5\n",
    "X_new = np.array(list(X[np.random.randint(0, X.shape[0])] for j in range(int(a*X.shape[0]))))\n",
    "X_new"
   ]
  },
  {
   "cell_type": "code",
   "execution_count": 91,
   "metadata": {},
   "outputs": [
    {
     "data": {
      "text/plain": [
       "array([3, 1])"
      ]
     },
     "execution_count": 91,
     "metadata": {},
     "output_type": "execute_result"
    }
   ],
   "source": [
    "X = np.array([\n",
    "    np.array([1, 2, 3, 4]),\n",
    "    np.array([2, 3, 4, 5]),\n",
    "    np.array([3, 4, 5, 6]),\n",
    "    np.array([4, 5, 6, 7])\n",
    "])\n",
    "b = 0.5\n",
    "rng = np.random.default_rng()\n",
    "random_features = rng.permutation(X.shape[1])[:int(b*X.shape[1])]\n",
    "random_features"
   ]
  },
  {
   "cell_type": "code",
   "execution_count": 93,
   "metadata": {},
   "outputs": [
    {
     "name": "stdout",
     "output_type": "stream",
     "text": [
      "oops\n",
      "oops\n",
      "oops\n"
     ]
    }
   ],
   "source": [
    "for i in range(3):\n",
    "    print(\"oops\")"
   ]
  },
  {
   "cell_type": "code",
   "execution_count": 94,
   "metadata": {},
   "outputs": [
    {
     "data": {
      "text/plain": [
       "array([1, 4, 9])"
      ]
     },
     "execution_count": 94,
     "metadata": {},
     "output_type": "execute_result"
    }
   ],
   "source": [
    "np.array([1, 2, 3]) * np.array([1, 2, 3])"
   ]
  },
  {
   "cell_type": "code",
   "execution_count": 99,
   "metadata": {},
   "outputs": [
    {
     "data": {
      "text/plain": [
       "array([  2,   9, 125])"
      ]
     },
     "execution_count": 99,
     "metadata": {},
     "output_type": "execute_result"
    }
   ],
   "source": [
    "np.array([2, 3, 5]) ** np.array([1, 2, 3])"
   ]
  },
  {
   "cell_type": "code",
   "execution_count": 101,
   "metadata": {},
   "outputs": [
    {
     "data": {
      "text/plain": [
       "3"
      ]
     },
     "execution_count": 101,
     "metadata": {},
     "output_type": "execute_result"
    }
   ],
   "source": [
    "np.size([1, 2, 3])"
   ]
  },
  {
   "cell_type": "code",
   "execution_count": 9,
   "metadata": {},
   "outputs": [
    {
     "data": {
      "text/plain": [
       "54.0"
      ]
     },
     "execution_count": 9,
     "metadata": {},
     "output_type": "execute_result"
    }
   ],
   "source": [
    "np.sum(np.load(\"Datasets/dataset_D.npz\")['arr_1'])"
   ]
  },
  {
   "cell_type": "code",
   "execution_count": 10,
   "metadata": {},
   "outputs": [
    {
     "data": {
      "text/plain": [
       "1"
      ]
     },
     "execution_count": 10,
     "metadata": {},
     "output_type": "execute_result"
    }
   ],
   "source": [
    "0**0"
   ]
  },
  {
   "cell_type": "code",
   "execution_count": 12,
   "metadata": {},
   "outputs": [
    {
     "data": {
      "text/plain": [
       "array([0, 1, 0, 1, 1])"
      ]
     },
     "execution_count": 12,
     "metadata": {},
     "output_type": "execute_result"
    }
   ],
   "source": [
    "1 - np.array([1, 0, 1, 0, 0])"
   ]
  },
  {
   "cell_type": "code",
   "execution_count": 14,
   "metadata": {},
   "outputs": [
    {
     "data": {
      "text/plain": [
       "True"
      ]
     },
     "execution_count": 14,
     "metadata": {},
     "output_type": "execute_result"
    }
   ],
   "source": [
    "1 != 2"
   ]
  },
  {
   "cell_type": "code",
   "execution_count": 15,
   "metadata": {},
   "outputs": [
    {
     "data": {
      "text/plain": [
       "inf"
      ]
     },
     "execution_count": 15,
     "metadata": {},
     "output_type": "execute_result"
    }
   ],
   "source": [
    "np.log(np.inf)"
   ]
  },
  {
   "cell_type": "code",
   "execution_count": 18,
   "metadata": {},
   "outputs": [
    {
     "data": {
      "text/plain": [
       "True"
      ]
     },
     "execution_count": 18,
     "metadata": {},
     "output_type": "execute_result"
    }
   ],
   "source": [
    "np.inf * 2 + 1 * 3 >= 0 "
   ]
  },
  {
   "cell_type": "code",
   "execution_count": 20,
   "metadata": {},
   "outputs": [
    {
     "data": {
      "text/plain": [
       "inf"
      ]
     },
     "execution_count": 20,
     "metadata": {},
     "output_type": "execute_result"
    }
   ],
   "source": [
    "np.sum(np.array(list([np.inf, 1, 3, np.inf])))"
   ]
  },
  {
   "cell_type": "code",
   "execution_count": 23,
   "metadata": {},
   "outputs": [
    {
     "ename": "ZeroDivisionError",
     "evalue": "float division by zero",
     "output_type": "error",
     "traceback": [
      "\u001b[0;31m---------------------------------------------------------------------------\u001b[0m",
      "\u001b[0;31mZeroDivisionError\u001b[0m                         Traceback (most recent call last)",
      "\u001b[1;32m/home/balakrishnan/Personal/CS5691/CS5691-Assignments/A2/trial.ipynb Cell 64\u001b[0m in \u001b[0;36m<cell line: 2>\u001b[0;34m()\u001b[0m\n\u001b[1;32m      <a href='vscode-notebook-cell:/home/balakrishnan/Personal/CS5691/CS5691-Assignments/A2/trial.ipynb#Y120sZmlsZQ%3D%3D?line=0'>1</a>\u001b[0m gamma \u001b[39m=\u001b[39m \u001b[39m0.5\u001b[39m\n\u001b[0;32m----> <a href='vscode-notebook-cell:/home/balakrishnan/Personal/CS5691/CS5691-Assignments/A2/trial.ipynb#Y120sZmlsZQ%3D%3D?line=1'>2</a>\u001b[0m (\u001b[39m0.5\u001b[39;49m \u001b[39m+\u001b[39;49m gamma)\u001b[39m/\u001b[39;49m(\u001b[39m0.5\u001b[39;49m \u001b[39m-\u001b[39;49m gamma)\n",
      "\u001b[0;31mZeroDivisionError\u001b[0m: float division by zero"
     ]
    }
   ],
   "source": [
    "gamma = 0.5\n",
    "(0.5 + gamma)/(0.5 - gamma)"
   ]
  },
  {
   "cell_type": "code",
   "execution_count": 26,
   "metadata": {},
   "outputs": [
    {
     "data": {
      "text/plain": [
       "False"
      ]
     },
     "execution_count": 26,
     "metadata": {},
     "output_type": "execute_result"
    }
   ],
   "source": [
    "Y = np.array([1, -1, 1, -1, -1])\n",
    "w = np.array([3, 2, 2, 1, 3])\n",
    "np.sum(w[Y==1]) >= np.sum(w[Y==-1])"
   ]
  },
  {
   "cell_type": "code",
   "execution_count": 30,
   "metadata": {},
   "outputs": [
    {
     "name": "stdout",
     "output_type": "stream",
     "text": [
      "0.07142857142857145\n",
      "1.3333333333333333\n",
      "[1.         1.33333333 1.33333333 1.         1.33333333 1.\n",
      " 1.        ]\n"
     ]
    }
   ],
   "source": [
    "l = np.array([0, 1, 1, 0, 1, 0, 0])\n",
    "w = np.ones(l.shape)\n",
    "gamma = 0.5 - np.sum(w * l)/np.sum(w)\n",
    "beta = (0.5 + gamma)/(0.5 - gamma)\n",
    "w = w * (beta ** l)\n",
    "print(gamma)\n",
    "print(beta)\n",
    "print(w)"
   ]
  },
  {
   "cell_type": "code",
   "execution_count": 31,
   "metadata": {},
   "outputs": [
    {
     "data": {
      "text/plain": [
       "1.0"
      ]
     },
     "execution_count": 31,
     "metadata": {},
     "output_type": "execute_result"
    }
   ],
   "source": [
    "x = -1\n",
    "y = 1\n",
    "np.abs(x - y)/2"
   ]
  },
  {
   "cell_type": "code",
   "execution_count": 32,
   "metadata": {},
   "outputs": [
    {
     "data": {
      "text/plain": [
       "array([1.e-04, 1.e-03, 1.e-02, 1.e-01, 1.e+00, 1.e+01, 1.e+02, 1.e+03])"
      ]
     },
     "execution_count": 32,
     "metadata": {},
     "output_type": "execute_result"
    }
   ],
   "source": [
    "np.logspace(-4, 3, num=8, base=10)"
   ]
  },
  {
   "cell_type": "code",
   "execution_count": 36,
   "metadata": {},
   "outputs": [
    {
     "data": {
      "text/plain": [
       "3432.0"
      ]
     },
     "execution_count": 36,
     "metadata": {},
     "output_type": "execute_result"
    }
   ],
   "source": [
    "X_test = np.load(\"Datasets/dataset_D.npz\")['arr_0']\n",
    "np.max(X_test)"
   ]
  },
  {
   "cell_type": "code",
   "execution_count": 37,
   "metadata": {},
   "outputs": [
    {
     "data": {
      "text/plain": [
       "-inf"
      ]
     },
     "execution_count": 37,
     "metadata": {},
     "output_type": "execute_result"
    }
   ],
   "source": [
    "-np.inf"
   ]
  },
  {
   "cell_type": "code",
   "execution_count": 38,
   "metadata": {},
   "outputs": [
    {
     "data": {
      "text/plain": [
       "array([[0.4, 0.6, 0.8],\n",
       "       [0.2, 0. , 0.8],\n",
       "       [0.2, 0.6, 1. ]])"
      ]
     },
     "execution_count": 38,
     "metadata": {},
     "output_type": "execute_result"
    }
   ],
   "source": [
    "class CustomScaler:\n",
    "    def __init__(self, low, high):\n",
    "        self.low = low\n",
    "        self.high = high\n",
    "    \n",
    "    def scale(self, x):\n",
    "        return (x - self.low)/(self.high - self.low)\n",
    "\n",
    "X = np.array([\n",
    "    np.array([1, 2, 3]),\n",
    "    np.array([0, -1, 3]),\n",
    "    np.array([0, 2, 4])\n",
    "])\n",
    "\n",
    "scaler = CustomScaler(np.min(X), np.max(X))\n",
    "scaler.scale(X)"
   ]
  },
  {
   "cell_type": "code",
   "execution_count": 40,
   "metadata": {},
   "outputs": [
    {
     "data": {
      "text/plain": [
       "0"
      ]
     },
     "execution_count": 40,
     "metadata": {},
     "output_type": "execute_result"
    }
   ],
   "source": [
    "Y = np.array([1, -1, -1, 1, 1])\n",
    "np.sum(Y == 1)"
   ]
  },
  {
   "cell_type": "code",
   "execution_count": 47,
   "metadata": {},
   "outputs": [
    {
     "data": {
      "text/plain": [
       "array([[14, 14, 26]])"
      ]
     },
     "execution_count": 47,
     "metadata": {},
     "output_type": "execute_result"
    }
   ],
   "source": [
    "X = np.array([\n",
    "    np.array([1, 2, 3]),\n",
    "    np.array([2, 3, 1]),\n",
    "    np.array([3, 4, 1])\n",
    "])\n",
    "X_norm = np.sum(X**2, axis=-1)\n",
    "X_norm[None,:]"
   ]
  },
  {
   "cell_type": "code",
   "execution_count": 113,
   "metadata": {},
   "outputs": [
    {
     "name": "stdout",
     "output_type": "stream",
     "text": [
      "[[1.00000000e+00 8.19401262e-40 7.17509597e-66]\n",
      " [8.19401262e-40 1.00000000e+00 6.71418429e-79]\n",
      " [7.17509597e-66 6.71418429e-79 1.00000000e+00]]\n"
     ]
    },
    {
     "ename": "ValueError",
     "evalue": "matmul: Input operand 1 has a mismatch in its core dimension 0, with gufunc signature (n?,k),(k,m?)->(n?,m?) (size 4 is different from 3)",
     "output_type": "error",
     "traceback": [
      "\u001b[0;31m---------------------------------------------------------------------------\u001b[0m",
      "\u001b[0;31mValueError\u001b[0m                                Traceback (most recent call last)",
      "\u001b[1;32m/home/balakrishnan/Personal/CS5691/CS5691-Assignments/A2/trial.ipynb Cell 74\u001b[0m in \u001b[0;36m<cell line: 79>\u001b[0;34m()\u001b[0m\n\u001b[1;32m     <a href='vscode-notebook-cell:/home/balakrishnan/Personal/CS5691/CS5691-Assignments/A2/trial.ipynb#Y134sZmlsZQ%3D%3D?line=75'>76</a>\u001b[0m kernel_param \u001b[39m=\u001b[39m \u001b[39m10\u001b[39m\n\u001b[1;32m     <a href='vscode-notebook-cell:/home/balakrishnan/Personal/CS5691/CS5691-Assignments/A2/trial.ipynb#Y134sZmlsZQ%3D%3D?line=77'>78</a>\u001b[0m \u001b[39mprint\u001b[39m(get_kernel_values(X, X, kernel, kernel_param))\n\u001b[0;32m---> <a href='vscode-notebook-cell:/home/balakrishnan/Personal/CS5691/CS5691-Assignments/A2/trial.ipynb#Y134sZmlsZQ%3D%3D?line=78'>79</a>\u001b[0m \u001b[39mprint\u001b[39m(get_kernel_values_maybe(X, X\u001b[39m.\u001b[39;49mT, kernel, kernel_param))\n",
      "\u001b[1;32m/home/balakrishnan/Personal/CS5691/CS5691-Assignments/A2/trial.ipynb Cell 74\u001b[0m in \u001b[0;36mget_kernel_values_maybe\u001b[0;34m(U, V, kernel, kernel_param)\u001b[0m\n\u001b[1;32m     <a href='vscode-notebook-cell:/home/balakrishnan/Personal/CS5691/CS5691-Assignments/A2/trial.ipynb#Y134sZmlsZQ%3D%3D?line=38'>39</a>\u001b[0m \u001b[39mdef\u001b[39;00m \u001b[39mget_kernel_values_maybe\u001b[39m(U, V, kernel, kernel_param):\n\u001b[1;32m     <a href='vscode-notebook-cell:/home/balakrishnan/Personal/CS5691/CS5691-Assignments/A2/trial.ipynb#Y134sZmlsZQ%3D%3D?line=39'>40</a>\u001b[0m     \u001b[39mif\u001b[39;00m kernel \u001b[39m==\u001b[39m \u001b[39m'\u001b[39m\u001b[39mrbf\u001b[39m\u001b[39m'\u001b[39m:\n\u001b[1;32m     <a href='vscode-notebook-cell:/home/balakrishnan/Personal/CS5691/CS5691-Assignments/A2/trial.ipynb#Y134sZmlsZQ%3D%3D?line=40'>41</a>\u001b[0m         \u001b[39mreturn\u001b[39;00m np\u001b[39m.\u001b[39mexp(\u001b[39m-\u001b[39m\u001b[39m1\u001b[39m\u001b[39m*\u001b[39mkernel_param\u001b[39m*\u001b[39m(\n\u001b[1;32m     <a href='vscode-notebook-cell:/home/balakrishnan/Personal/CS5691/CS5691-Assignments/A2/trial.ipynb#Y134sZmlsZQ%3D%3D?line=41'>42</a>\u001b[0m             \u001b[39m# np.add(np.matmul(U.T, U), \u001b[39;00m\n\u001b[1;32m     <a href='vscode-notebook-cell:/home/balakrishnan/Personal/CS5691/CS5691-Assignments/A2/trial.ipynb#Y134sZmlsZQ%3D%3D?line=42'>43</a>\u001b[0m             np\u001b[39m.\u001b[39madd(np\u001b[39m.\u001b[39msum(U\u001b[39m*\u001b[39m\u001b[39m*\u001b[39m\u001b[39m2\u001b[39m, axis\u001b[39m=\u001b[39m\u001b[39m0\u001b[39m),\n\u001b[0;32m---> <a href='vscode-notebook-cell:/home/balakrishnan/Personal/CS5691/CS5691-Assignments/A2/trial.ipynb#Y134sZmlsZQ%3D%3D?line=43'>44</a>\u001b[0m             np\u001b[39m.\u001b[39madd(\u001b[39m-\u001b[39m\u001b[39m2\u001b[39m\u001b[39m*\u001b[39mnp\u001b[39m.\u001b[39;49mmatmul(U\u001b[39m.\u001b[39;49mT, V), np\u001b[39m.\u001b[39msum(V\u001b[39m*\u001b[39m\u001b[39m*\u001b[39m\u001b[39m2\u001b[39m, axis\u001b[39m=\u001b[39m\u001b[39m0\u001b[39m)[\u001b[39mNone\u001b[39;00m:,]))\n\u001b[1;32m     <a href='vscode-notebook-cell:/home/balakrishnan/Personal/CS5691/CS5691-Assignments/A2/trial.ipynb#Y134sZmlsZQ%3D%3D?line=44'>45</a>\u001b[0m         ))\n\u001b[1;32m     <a href='vscode-notebook-cell:/home/balakrishnan/Personal/CS5691/CS5691-Assignments/A2/trial.ipynb#Y134sZmlsZQ%3D%3D?line=45'>46</a>\u001b[0m     \u001b[39melse\u001b[39;00m:\n\u001b[1;32m     <a href='vscode-notebook-cell:/home/balakrishnan/Personal/CS5691/CS5691-Assignments/A2/trial.ipynb#Y134sZmlsZQ%3D%3D?line=46'>47</a>\u001b[0m         \u001b[39mreturn\u001b[39;00m get_kernel_value(U, V, kernel, kernel_param)\n",
      "\u001b[0;31mValueError\u001b[0m: matmul: Input operand 1 has a mismatch in its core dimension 0, with gufunc signature (n?,k),(k,m?)->(n?,m?) (size 4 is different from 3)"
     ]
    }
   ],
   "source": [
    "def linear_kernel_value(u, v):\n",
    "    return np.dot(u, v)\n",
    "\n",
    "def poly_kernel_value(u, v, d):\n",
    "    return (1+np.dot(u, v))**d\n",
    "\n",
    "# def rbf_kernel_value(u, v, gamma):\n",
    "#     return np.exp(-1*gamma*(np.dot(np.subtract(u, v).T, np.subtract(u, v))))\n",
    "\n",
    "def rbf_kernel_value(u, v, gamma):\n",
    "    return np.exp(gamma*(2*np.matmul(u.T, v) - np.matmul(u.T, u) - np.matmul(v.T, v)))\n",
    "\n",
    "def rbf_kernel_value_maybe(u, v, gamma):\n",
    "    # const_term = np.exp(-1*np.matmul(u.T, u))\n",
    "    return np.exp(-1*np.matmul(u.T, u)) * np.matmul(\n",
    "        np.transpose(np.exp(2*np.matmul(u.T, v))),\n",
    "        np.exp(np.sum(v**2, axis=0))\n",
    "    )\n",
    "\n",
    "# def get_kernel_value(u, v, kernel, kernel_param):\n",
    "#     if kernel == 'linear':\n",
    "#         return linear_kernel_value(u, v)\n",
    "#     elif kernel == 'rbf':\n",
    "#         return rbf_kernel_value(u, v, kernel_param)\n",
    "#     elif kernel == 'poly':\n",
    "#         return poly_kernel_value(u, v, kernel_param)\n",
    "\n",
    "def get_kernel_value(u, v, kernel, kernel_param):\n",
    "    if kernel == 'linear':\n",
    "        return linear_kernel_value(u, v)\n",
    "    elif kernel == 'rbf':\n",
    "        return rbf_kernel_value(u, v, kernel_param)\n",
    "    elif kernel == 'poly':\n",
    "        return poly_kernel_value(u, v, kernel_param)\n",
    "\n",
    "def get_kernel_values(U, V, kernel, kernel_param):\n",
    "    return np.array(list(np.array(list(get_kernel_value(u, v, kernel, kernel_param) for v in V)) for u in U))\n",
    "\n",
    "def get_kernel_values_maybe(U, V, kernel, kernel_param):\n",
    "    if kernel == 'rbf':\n",
    "        return np.exp(-1*kernel_param*(\n",
    "            # np.add(np.matmul(U.T, U), \n",
    "            np.add(np.sum(U**2, axis=0),\n",
    "            np.add(-2*np.matmul(U.T, V), np.sum(V**2, axis=0)))\n",
    "        ))\n",
    "    else:\n",
    "        return get_kernel_value(U, V, kernel, kernel_param)\n",
    "\n",
    "# def get_kernel_matrix(X, kernel, kernel_param):\n",
    "#     return np.array(list(np.array(list(get_kernel_value(X_i, X_j, kernel, kernel_param) for X_j in X)) for X_i in X))\n",
    "\n",
    "def get_kernel_matrix(X, kernel, kernel_param):\n",
    "    return np.array(list(np.array(list(get_kernel_value(X_i, X_j, kernel, kernel_param) for X_j in X)) for X_i in X))\n",
    "\n",
    "def get_kernel_matrix_maybe(X, kernel, kernel_param):\n",
    "    # return get_kernel_value(X, np.transpose(X), kernel, kernel_param)\n",
    "    if kernel == 'linear':\n",
    "        return np.matmul(X, np.transpose(X))\n",
    "    elif kernel == 'poly':\n",
    "        return (1 + np.matmul(X, np.transpose(X)))**kernel_param\n",
    "    elif kernel == 'rbf':\n",
    "        X_norm_sq = np.sum(X**2, axis=1)\n",
    "        return np.exp(-1 * kernel_param * (X_norm_sq[:, None] + X_norm_sq[None, :]- 2*np.matmul(X, np.transpose(X))))\n",
    "\n",
    "X = np.array([\n",
    "    np.array([1, 2, 3, 1]),\n",
    "    np.array([3, 2, 5, 0]),\n",
    "    np.array([3, 1, 4, 4])\n",
    "    # np.array([4, 2, 5])\n",
    "])\n",
    "\n",
    "x = np.array([1, 4, 3, 0])\n",
    "y = np.array([3, 2, 5, 1])\n",
    "\n",
    "kernel = 'rbf'\n",
    "kernel_param = 10\n",
    "\n",
    "print(get_kernel_values(X, X, kernel, kernel_param))\n",
    "print(get_kernel_values_maybe(X, X.T, kernel, kernel_param))\n",
    "\n",
    "# print(rbf_kernel_value(x, y, kernel_param))\n",
    "# print(rbf_kernel_value_maybe(x, y, kernel_param))"
   ]
  },
  {
   "cell_type": "code",
   "execution_count": 79,
   "metadata": {},
   "outputs": [
    {
     "data": {
      "text/plain": [
       "2"
      ]
     },
     "execution_count": 79,
     "metadata": {},
     "output_type": "execute_result"
    }
   ],
   "source": [
    "tu = (2, 3)\n",
    "tu.__len__()"
   ]
  },
  {
   "cell_type": "code",
   "execution_count": 81,
   "metadata": {},
   "outputs": [
    {
     "data": {
      "text/plain": [
       "1"
      ]
     },
     "execution_count": 81,
     "metadata": {},
     "output_type": "execute_result"
    }
   ],
   "source": [
    "X = np.array([\n",
    "    np.array([1, 2, 3, 1]),\n",
    "    np.array([3, 2, 5, 0]),\n",
    "    np.array([3, 1, 4, 4])\n",
    "    # np.array([4, 2, 5])\n",
    "])\n",
    "x = np.array([1, 4, 3, 0])\n",
    "\n",
    "x.shape.__len__()"
   ]
  },
  {
   "cell_type": "code",
   "execution_count": 87,
   "metadata": {},
   "outputs": [
    {
     "data": {
      "text/plain": [
       "array([[24]])"
      ]
     },
     "execution_count": 87,
     "metadata": {},
     "output_type": "execute_result"
    }
   ],
   "source": [
    "X = np.array([\n",
    "    np.array([1, 2, 3])\n",
    "])\n",
    "Y = np.array([\n",
    "    np.array([3]),\n",
    "    np.array([0]),\n",
    "    np.array([7])\n",
    "])\n",
    "np.matmul(X, Y)"
   ]
  },
  {
   "cell_type": "code",
   "execution_count": 34,
   "metadata": {},
   "outputs": [
    {
     "name": "stdout",
     "output_type": "stream",
     "text": [
      "0.0\n"
     ]
    }
   ],
   "source": [
    "def linear_kernel_value(u, v):\n",
    "    return np.dot(u, v)\n",
    "\n",
    "def poly_kernel_value(u, v, d):\n",
    "    return (1+np.dot(u, v))**d\n",
    "\n",
    "def rbf_kernel_value(u, v, gamma):\n",
    "    return np.exp(-1*gamma*(np.dot(np.subtract(u, v), np.subtract(u, v))))\n",
    "    # return np.exp(gamma*(2*np.matmul(u.T, v) - np.matmul(u.T, u) - np.matmul(v.T, v)))\n",
    "\n",
    "def get_kernel_value(u, v, kernel, kernel_param):\n",
    "    if kernel == 'linear':\n",
    "        return linear_kernel_value(u, v)\n",
    "    elif kernel == 'rbf':\n",
    "        return rbf_kernel_value(u, v, kernel_param)\n",
    "    elif kernel == 'poly':\n",
    "        return poly_kernel_value(u, v, kernel_param)\n",
    "\n",
    "def get_kernel_values(X, Y, kernel, kernel_param):\n",
    "    \"\"\"\n",
    "    Arguments:\n",
    "    X : (n,d) shape numpy array\n",
    "    kernel = 'linear' or 'rbf' or 'poly'\n",
    "    reg_param = lambda, for regularized logistic regression\n",
    "    kernel_param = gamma for rbf kernel or degree of poly kernel\n",
    "\n",
    "    Returns the kernel matrix :\n",
    "    K: (n,n) shape numpy array\n",
    "    \"\"\"\n",
    "    return np.array(list(np.array(list(get_kernel_value(X_i, Y_j, kernel, kernel_param) for Y_j in Y)) for X_i in X))\n",
    "\n",
    "# def get_kernel_values(u, V, kernel, kernel_param):\n",
    "#     if kernel == 'rbf':\n",
    "#         return np.exp(-1*kernel_param*(\n",
    "#             np.add(np.matmul(u.T, u), \n",
    "#             np.add(-2*np.matmul(u.T, V), np.sum(V**2, axis=0)))\n",
    "#         ))\n",
    "#     else:\n",
    "#         return get_kernel_value(u, V, kernel, kernel_param)\n",
    "\n",
    "def get_kernel_values_maybe(X, Y, kernel, kernel_param):\n",
    "    \"\"\"\n",
    "    Arguments:\n",
    "    X : (n,d) shape numpy array\n",
    "    kernel = 'linear' or 'rbf' or 'poly'\n",
    "    reg_param = lambda, for regularized logistic regression\n",
    "    kernel_param = gamma for rbf kernel or degree of poly kernel\n",
    "\n",
    "    Returns the kernel matrix :\n",
    "    K: (n,n) shape numpy array\n",
    "    \"\"\"\n",
    "    # return np.array(list(np.array(list(get_kernel_value(X_i, X_j, kernel, kernel_param) for X_j in X)) for X_i in X))\n",
    "    if kernel == 'linear':\n",
    "        return np.matmul(X, np.transpose(Y))\n",
    "    elif kernel == 'poly':\n",
    "        return (1 + np.matmul(X, np.transpose(Y)))**kernel_param\n",
    "    elif kernel == 'rbf':\n",
    "        X_norm_sq = np.sum(X**2, axis=-1)\n",
    "        Y_norm_sq = np.sum(Y**2, axis=-1)\n",
    "        return np.exp(-1 * kernel_param * (X_norm_sq[:, None] + Y_norm_sq[None, :] - 2*np.matmul(X, np.transpose(Y))))\n",
    "\n",
    "# X = np.array([\n",
    "#     np.array([1, 2, 3]),\n",
    "#     np.array([3, 2, 5])\n",
    "# ])\n",
    "# Y = np.array([\n",
    "#     np.array([3, 3, 1]),\n",
    "#     np.array([3, 5, 1]),\n",
    "#     np.array([6, -1, 3]),\n",
    "#     np.array([0, 5, -1])\n",
    "# ])\n",
    "# X = np.array([1, 4, 2])\n",
    "# Y = np.array([-4, 3, 0])\n",
    "\n",
    "def get_kernel_matrix(X, kernel, kernel_param):\n",
    "    \"\"\"\n",
    "    Arguments:\n",
    "    X : (n,d) shape numpy array\n",
    "    kernel = 'linear' or 'rbf' or 'poly'\n",
    "    reg_param = lambda, for regularized logistic regression\n",
    "    kernel_param = gamma for rbf kernel or degree of poly kernel\n",
    "\n",
    "    Returns the kernel matrix :\n",
    "    K: (n,n) shape numpy array\n",
    "    \"\"\"\n",
    "    # return np.array(list(np.array(list(get_kernel_value(X_i, X_j, kernel, kernel_param) for X_j in X)) for X_i in X))\n",
    "    if kernel == 'linear':\n",
    "        return np.matmul(X, np.transpose(X))\n",
    "    elif kernel == 'poly':\n",
    "        return (1 + np.matmul(X, np.transpose(X)))**kernel_param\n",
    "    elif kernel == 'rbf':\n",
    "        X_norm_sq = np.sum(X**2, axis=1)\n",
    "        return np.exp(-1 * kernel_param * (X_norm_sq[:, None] + X_norm_sq[None, :]- 2*np.matmul(X, np.transpose(X))))\n",
    "\n",
    "data = np.load(\"Datasets/dataset_A.npz\")\n",
    "X = data['arr_0']\n",
    "Y = data['arr_2']\n",
    "kernel = 'rbf'\n",
    "kernel_param = 10\n",
    "# print(get_kernel_values(X, Y, kernel, kernel_param))\n",
    "# print(get_kernel_values_maybe(X, Y, kernel, kernel_param))\n",
    "print(np.sum(np.abs(np.subtract(get_kernel_matrix(X, kernel, kernel_param), get_kernel_values_maybe(X, X, kernel, kernel_param)))))"
   ]
  },
  {
   "cell_type": "code",
   "execution_count": 35,
   "metadata": {},
   "outputs": [
    {
     "ename": "ValueError",
     "evalue": "The truth value of an array with more than one element is ambiguous. Use a.any() or a.all()",
     "output_type": "error",
     "traceback": [
      "\u001b[0;31m---------------------------------------------------------------------------\u001b[0m",
      "\u001b[0;31mValueError\u001b[0m                                Traceback (most recent call last)",
      "\u001b[1;32m/home/balakrishnan/Personal/CS5691/CS5691-Assignments/A2/trial.ipynb Cell 79\u001b[0m in \u001b[0;36m<cell line: 2>\u001b[0;34m()\u001b[0m\n\u001b[1;32m      <a href='vscode-notebook-cell:/home/balakrishnan/Personal/CS5691/CS5691-Assignments/A2/trial.ipynb#Y142sZmlsZQ%3D%3D?line=0'>1</a>\u001b[0m res \u001b[39m=\u001b[39m np\u001b[39m.\u001b[39marray([\u001b[39m1\u001b[39m, \u001b[39m3\u001b[39m, \u001b[39m2\u001b[39m, \u001b[39m-\u001b[39m\u001b[39m4\u001b[39m, \u001b[39m0\u001b[39m, \u001b[39m3\u001b[39m, \u001b[39m-\u001b[39m\u001b[39m2\u001b[39m])\n\u001b[0;32m----> <a href='vscode-notebook-cell:/home/balakrishnan/Personal/CS5691/CS5691-Assignments/A2/trial.ipynb#Y142sZmlsZQ%3D%3D?line=1'>2</a>\u001b[0m res \u001b[39m=\u001b[39m \u001b[39mlist\u001b[39m(\u001b[39m1\u001b[39m \u001b[39mif\u001b[39;00m res \u001b[39m>\u001b[39m\u001b[39m=\u001b[39m \u001b[39m0\u001b[39m \u001b[39melse\u001b[39;00m \u001b[39m-\u001b[39m\u001b[39m1\u001b[39m)\n",
      "\u001b[0;31mValueError\u001b[0m: The truth value of an array with more than one element is ambiguous. Use a.any() or a.all()"
     ]
    }
   ],
   "source": [
    "res = np.array([1, 3, 2, -4, 0, 3, -2])"
   ]
  },
  {
   "cell_type": "code",
   "execution_count": 4,
   "metadata": {},
   "outputs": [
    {
     "data": {
      "text/plain": [
       "array([ 1.,  1., -1., -1.,  1.,  1.,  1., -1.,  1.,  1.])"
      ]
     },
     "execution_count": 4,
     "metadata": {},
     "output_type": "execute_result"
    }
   ],
   "source": [
    "Y = np.array([1, 0, -1, -1, 1, 1, 0, -1, 1, 1])\n",
    "def change_zero(x):\n",
    "    if x == 0:\n",
    "        return 1\n",
    "    return x\n",
    "# np.apply_along_axis(change_zero, 0, Y)\n",
    "Y = np.sign(Y + 0.5)\n",
    "Y"
   ]
  },
  {
   "cell_type": "code",
   "execution_count": null,
   "metadata": {},
   "outputs": [],
   "source": []
  }
 ],
 "metadata": {
  "kernelspec": {
   "display_name": "Python 3.10.6 64-bit",
   "language": "python",
   "name": "python3"
  },
  "language_info": {
   "codemirror_mode": {
    "name": "ipython",
    "version": 3
   },
   "file_extension": ".py",
   "mimetype": "text/x-python",
   "name": "python",
   "nbconvert_exporter": "python",
   "pygments_lexer": "ipython3",
   "version": "3.10.6"
  },
  "orig_nbformat": 4,
  "vscode": {
   "interpreter": {
    "hash": "916dbcbb3f70747c44a77c7bcd40155683ae19c65e1c03b4aa3499c5328201f1"
   }
  }
 },
 "nbformat": 4,
 "nbformat_minor": 2
}
